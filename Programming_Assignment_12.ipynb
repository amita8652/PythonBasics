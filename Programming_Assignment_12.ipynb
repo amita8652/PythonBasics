{
 "cells": [
  {
   "cell_type": "markdown",
   "id": "b805d93f",
   "metadata": {},
   "source": [
    "1.\tWrite a Python program to Extract Unique values dictionary values?"
   ]
  },
  {
   "cell_type": "code",
   "execution_count": 2,
   "id": "815dfe30",
   "metadata": {},
   "outputs": [
    {
     "name": "stdout",
     "output_type": "stream",
     "text": [
      "Unique values: {1, 2, 3, 4, 5, 6}\n"
     ]
    }
   ],
   "source": [
    "def extract_unique_values(dictionary):\n",
    " \n",
    "    unique_values = set()\n",
    "\n",
    "    for value in dictionary.values():\n",
    "     \n",
    "        if isinstance(value, (list, tuple)):\n",
    "         \n",
    "            unique_values.update(value)\n",
    "        else:\n",
    "     \n",
    "            unique_values.add(value)\n",
    "\n",
    "    return unique_values\n",
    "\n",
    "my_dict = {\n",
    "    'key1': [1, 2, 3],\n",
    "    'key2': [2, 3, 4],\n",
    "    'key3': [3, 4, 5],\n",
    "    'key4': [4, 5, 6]\n",
    "}\n",
    "\n",
    "result = extract_unique_values(my_dict)\n",
    "\n",
    "print(\"Unique values:\", result)\n"
   ]
  },
  {
   "cell_type": "code",
   "execution_count": null,
   "id": "992df6a3",
   "metadata": {},
   "outputs": [],
   "source": []
  },
  {
   "cell_type": "markdown",
   "id": "f4e00e8f",
   "metadata": {},
   "source": [
    "2.\tWrite a Python program to find the sum of all items in a dictionary?"
   ]
  },
  {
   "cell_type": "code",
   "execution_count": 5,
   "id": "023c5085",
   "metadata": {},
   "outputs": [
    {
     "name": "stdout",
     "output_type": "stream",
     "text": [
      "Sum of dictionary items: 100\n"
     ]
    }
   ],
   "source": [
    "def sum_dictionary_items(dictionary):\n",
    "    \n",
    "    total_sum = 0\n",
    "    for value in dictionary.values():\n",
    "        \n",
    "        if isinstance(value, (int, float)):\n",
    "           \n",
    "            total_sum += value\n",
    "\n",
    "    return total_sum\n",
    "\n",
    "my_dict = {\n",
    "    'item1': 10,\n",
    "    'item2': 20,\n",
    "    'item3': 30,\n",
    "    'item4': 40\n",
    "}\n",
    "\n",
    "result = sum_dictionary_items(my_dict)\n",
    "\n",
    "print(\"Sum of dictionary items:\", result)\n"
   ]
  },
  {
   "cell_type": "code",
   "execution_count": null,
   "id": "eb40be48",
   "metadata": {},
   "outputs": [],
   "source": []
  },
  {
   "cell_type": "markdown",
   "id": "f93092e7",
   "metadata": {},
   "source": [
    "3.\tWrite a Python program to Merging two Dictionaries?"
   ]
  },
  {
   "cell_type": "code",
   "execution_count": 7,
   "id": "6343f45d",
   "metadata": {},
   "outputs": [
    {
     "name": "stdout",
     "output_type": "stream",
     "text": [
      "Merged dictionary: {'a': 1, 'b': 2, 'c': 3, 'd': 4}\n"
     ]
    }
   ],
   "source": [
    "def merge_dictionaries(dict1, dict2):\n",
    "\n",
    "    merged_dict = {}\n",
    "\n",
    "    merged_dict.update(dict1)\n",
    "    merged_dict.update(dict2)\n",
    "\n",
    "    return merged_dict\n",
    "\n",
    "dict1 = {'a': 1, 'b': 2}\n",
    "dict2 = {'c': 3, 'd': 4}\n",
    "\n",
    "result = merge_dictionaries(dict1, dict2)\n",
    "\n",
    "print(\"Merged dictionary:\", result)\n"
   ]
  },
  {
   "cell_type": "code",
   "execution_count": null,
   "id": "607cf023",
   "metadata": {},
   "outputs": [],
   "source": []
  },
  {
   "cell_type": "markdown",
   "id": "e634651e",
   "metadata": {},
   "source": [
    "4.\tWrite a Python program to convert key-values list to flat dictionary?"
   ]
  },
  {
   "cell_type": "code",
   "execution_count": 9,
   "id": "a9f39d63",
   "metadata": {},
   "outputs": [
    {
     "name": "stdout",
     "output_type": "stream",
     "text": [
      "Flat dictionary: {'a': [1, 3], 'b': [2], 'c': [4]}\n"
     ]
    }
   ],
   "source": [
    "def convert_to_flat_dictionary(key_value_list):\n",
    "\n",
    "    flat_dict = {}\n",
    "\n",
    "    for key, value in key_value_list:\n",
    "        if key in flat_dict:\n",
    "    \n",
    "            flat_dict[key].append(value)\n",
    "        else:\n",
    "    \n",
    "            flat_dict[key] = [value]\n",
    "\n",
    "    return flat_dict\n",
    "\n",
    "key_value_list = [('a', 1), ('b', 2), ('a', 3), ('c', 4)]\n",
    "result = convert_to_flat_dictionary(key_value_list)\n",
    "print(\"Flat dictionary:\", result)\n"
   ]
  },
  {
   "cell_type": "code",
   "execution_count": null,
   "id": "da291a1e",
   "metadata": {},
   "outputs": [],
   "source": []
  },
  {
   "cell_type": "markdown",
   "id": "d09586f7",
   "metadata": {},
   "source": [
    "5.\tWrite a Python program to insertion at the beginning in OrderedDict?"
   ]
  },
  {
   "cell_type": "code",
   "execution_count": 11,
   "id": "8ce0ee7f",
   "metadata": {},
   "outputs": [
    {
     "name": "stdout",
     "output_type": "stream",
     "text": [
      "Modified OrderedDict: OrderedDict([('x', 10), ('a', 1), ('b', 2), ('c', 3)])\n"
     ]
    }
   ],
   "source": [
    "from collections import OrderedDict\n",
    "\n",
    "def insert_at_beginning(ordered_dict, key, value):\n",
    "  \n",
    "    new_dict = OrderedDict()\n",
    "\n",
    "    new_dict[key] = value\n",
    "\n",
    "    for k, v in ordered_dict.items():\n",
    "        new_dict[k] = v\n",
    "\n",
    "    return new_dict\n",
    "\n",
    "ordered_dict = OrderedDict([('a', 1), ('b', 2), ('c', 3)])\n",
    "\n",
    "new_key = 'x'\n",
    "new_value = 10\n",
    "\n",
    "result = insert_at_beginning(ordered_dict, new_key, new_value)\n",
    "\n",
    "print(\"Modified OrderedDict:\", result)\n"
   ]
  },
  {
   "cell_type": "code",
   "execution_count": null,
   "id": "38504e2e",
   "metadata": {},
   "outputs": [],
   "source": []
  },
  {
   "cell_type": "markdown",
   "id": "aa40d9cb",
   "metadata": {},
   "source": [
    "6.\tWrite a Python program to check order of character in string using OrderedDict()?"
   ]
  },
  {
   "cell_type": "code",
   "execution_count": 13,
   "id": "b015bf94",
   "metadata": {},
   "outputs": [
    {
     "name": "stdout",
     "output_type": "stream",
     "text": [
      "The characters in the string do not match the given order.\n"
     ]
    }
   ],
   "source": [
    "from collections import OrderedDict\n",
    "\n",
    "def check_character_order(string, order):\n",
    "    \n",
    "    char_dict = OrderedDict.fromkeys(string)\n",
    "\n",
    "    for char in string:\n",
    "        if char_dict[char] == order[0]:\n",
    "            order = order[1:]\n",
    "\n",
    "        if not order:\n",
    "            break\n",
    "            \n",
    "    return not order\n",
    "\n",
    "string = 'hello world'\n",
    "\n",
    "order = 'hlo'\n",
    "\n",
    "result = check_character_order(string, order)\n",
    "\n",
    "if result:\n",
    "    print(\"The characters in the string match the given order.\")\n",
    "else:\n",
    "    print(\"The characters in the string do not match the given order.\")\n"
   ]
  },
  {
   "cell_type": "code",
   "execution_count": null,
   "id": "3156e67e",
   "metadata": {},
   "outputs": [],
   "source": []
  },
  {
   "cell_type": "markdown",
   "id": "d4a179c4",
   "metadata": {},
   "source": [
    "7.\tWrite a Python program to sort Python Dictionaries by Key or Value?"
   ]
  },
  {
   "cell_type": "code",
   "execution_count": 14,
   "id": "430b211a",
   "metadata": {},
   "outputs": [
    {
     "name": "stdout",
     "output_type": "stream",
     "text": [
      "Sorted by Key: {'a': 1, 'b': 2, 'c': 3}\n",
      "Sorted by Value: {'a': 1, 'b': 2, 'c': 3}\n"
     ]
    }
   ],
   "source": [
    "def sort_dict_by_key(dictionary):\n",
    "    sorted_dict = dict(sorted(dictionary.items(), key=lambda x: x[0]))\n",
    "    return sorted_dict\n",
    "\n",
    "def sort_dict_by_value(dictionary):\n",
    "    sorted_dict = dict(sorted(dictionary.items(), key=lambda x: x[1]))\n",
    "    return sorted_dict\n",
    "\n",
    "my_dict = {'c': 3, 'a': 1, 'b': 2}\n",
    "\n",
    "sorted_by_key = sort_dict_by_key(my_dict)\n",
    "print(\"Sorted by Key:\", sorted_by_key)\n",
    "\n",
    "sorted_by_value = sort_dict_by_value(my_dict)\n",
    "print(\"Sorted by Value:\", sorted_by_value)\n"
   ]
  }
 ],
 "metadata": {
  "kernelspec": {
   "display_name": "Python 3 (ipykernel)",
   "language": "python",
   "name": "python3"
  },
  "language_info": {
   "codemirror_mode": {
    "name": "ipython",
    "version": 3
   },
   "file_extension": ".py",
   "mimetype": "text/x-python",
   "name": "python",
   "nbconvert_exporter": "python",
   "pygments_lexer": "ipython3",
   "version": "3.10.9"
  }
 },
 "nbformat": 4,
 "nbformat_minor": 5
}
