{
 "cells": [
  {
   "cell_type": "markdown",
   "id": "2969772b",
   "metadata": {},
   "source": [
    "1. What is the result of the code, and explain?\n",
    "\n",
    "\n",
    ">>> X = 'iNeuron'\n",
    ">>> def func():\n",
    "print(X)\n",
    "\n",
    "\n",
    ">>> func()\n"
   ]
  },
  {
   "cell_type": "code",
   "execution_count": null,
   "id": "e232cdfc",
   "metadata": {},
   "outputs": [],
   "source": [
    "# Ans - 'iNeuron'"
   ]
  },
  {
   "cell_type": "code",
   "execution_count": null,
   "id": "ab423dd2",
   "metadata": {},
   "outputs": [],
   "source": []
  },
  {
   "cell_type": "markdown",
   "id": "f8ecc975",
   "metadata": {},
   "source": [
    "\n",
    "2. What is the result of the code, and explain?\n",
    "\n",
    "\n",
    ">>> X = 'iNeuron'\n",
    ">>> def func():\n",
    "X = 'NI!'\n",
    "\n",
    "\n",
    ">>> func()\n",
    ">>> print(X)\n"
   ]
  },
  {
   "cell_type": "code",
   "execution_count": null,
   "id": "6e46da33",
   "metadata": {},
   "outputs": [],
   "source": [
    "# Ans  - \n",
    "#        'iNeuron'  -\n",
    "#  print(X) in in global frame so it will access global variable"
   ]
  },
  {
   "cell_type": "code",
   "execution_count": null,
   "id": "0f6a4d0e",
   "metadata": {},
   "outputs": [],
   "source": []
  },
  {
   "cell_type": "markdown",
   "id": "88bb122f",
   "metadata": {},
   "source": [
    "3. What does this code print, and why?\n",
    "\n",
    "\n",
    ">>> X = 'iNeuron'\n",
    ">>> def func():\n",
    "X = 'NI'\n",
    "print(X)\n",
    "\n",
    "\n",
    ">>> func()\n",
    ">>> print(X)\n"
   ]
  },
  {
   "cell_type": "code",
   "execution_count": null,
   "id": "996b9cb5",
   "metadata": {},
   "outputs": [],
   "source": [
    "#Ans  -  \n",
    "\n",
    "#        'NI!'\n",
    "#        'iNeuron'\n",
    "\n",
    "# inside function X is a local variable so func() will access local variable but \n",
    "#  print(X) in in global frame so it will access global variable"
   ]
  },
  {
   "cell_type": "code",
   "execution_count": null,
   "id": "93fc76e0",
   "metadata": {},
   "outputs": [],
   "source": []
  },
  {
   "cell_type": "markdown",
   "id": "3953c74f",
   "metadata": {},
   "source": [
    "4. What output does this code produce? Why?\n",
    "\n",
    "\n",
    ">>> X = 'iNeuron'\n",
    ">>> def func():\n",
    "global X\n",
    "X = 'NI'\n",
    "\n",
    "\n",
    ">>> func()\n",
    ">>> print(X)\n"
   ]
  },
  {
   "cell_type": "code",
   "execution_count": null,
   "id": "57d2561d",
   "metadata": {},
   "outputs": [],
   "source": [
    "#  Ans - 'NI' because inside function func() it is accessing global X and changing its value so when in\n",
    "# global scope print(X) will print changed value"
   ]
  },
  {
   "cell_type": "code",
   "execution_count": null,
   "id": "547ca457",
   "metadata": {},
   "outputs": [],
   "source": []
  },
  {
   "cell_type": "markdown",
   "id": "33ee0443",
   "metadata": {},
   "source": [
    "5. What about this code—what’s the output, and why?\n",
    "\n",
    "\n",
    ">>> X = 'iNeuron'\n",
    ">>> def func():\n",
    "X = 'NI'\n",
    "def nested():\n",
    "print(X)\n",
    "nested()\n",
    "\n",
    "\n",
    ">>> func()\n",
    ">>> X\n"
   ]
  },
  {
   "cell_type": "code",
   "execution_count": null,
   "id": "b3c32885",
   "metadata": {},
   "outputs": [],
   "source": [
    "# Ans - 'NI'\n",
    "#       'iNeuron'  nested() is calling X whose value is 'NI' from the func() but globally X value is \n",
    "# 'iNeuron' so in global frame it is printed"
   ]
  },
  {
   "cell_type": "code",
   "execution_count": null,
   "id": "3d370b88",
   "metadata": {},
   "outputs": [],
   "source": []
  },
  {
   "cell_type": "markdown",
   "id": "29741914",
   "metadata": {},
   "source": [
    "6. How about this code: what is its output in Python 3, and explain?\n",
    "\n",
    "\n",
    ">>> def func():\n",
    "X = 'NI'\n",
    "def nested():\n",
    "nonlocal X\n",
    "X = 'Spam'\n",
    "nested()\n",
    "print(X)\n",
    "\n",
    "\n",
    ">>> func()\n"
   ]
  },
  {
   "cell_type": "code",
   "execution_count": null,
   "id": "47458f4f",
   "metadata": {},
   "outputs": [],
   "source": [
    "#   NI\n",
    "#   NI"
   ]
  }
 ],
 "metadata": {
  "kernelspec": {
   "display_name": "Python 3 (ipykernel)",
   "language": "python",
   "name": "python3"
  },
  "language_info": {
   "codemirror_mode": {
    "name": "ipython",
    "version": 3
   },
   "file_extension": ".py",
   "mimetype": "text/x-python",
   "name": "python",
   "nbconvert_exporter": "python",
   "pygments_lexer": "ipython3",
   "version": "3.10.9"
  }
 },
 "nbformat": 4,
 "nbformat_minor": 5
}
