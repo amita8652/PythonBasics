{
 "cells": [
  {
   "cell_type": "markdown",
   "id": "980a69b5",
   "metadata": {},
   "source": [
    "1. Set the variable test1 to the string 'This is a test of the emergency text system,' and save test1 to a file named test.txt."
   ]
  },
  {
   "cell_type": "code",
   "execution_count": null,
   "id": "310c44bb",
   "metadata": {},
   "outputs": [],
   "source": [
    "test1 = 'This is a test of the emergency text system'\n",
    "\n",
    "with open('test.txt', 'w') as file:\n",
    "    file.write(test1)\n"
   ]
  },
  {
   "cell_type": "code",
   "execution_count": null,
   "id": "75be6019",
   "metadata": {},
   "outputs": [],
   "source": []
  },
  {
   "cell_type": "markdown",
   "id": "e0f2381e",
   "metadata": {},
   "source": [
    "2. Read the contents of the file test.txt into the variable test2. Is there a difference between test 1 and test 2?"
   ]
  },
  {
   "cell_type": "code",
   "execution_count": null,
   "id": "63b3bcce",
   "metadata": {},
   "outputs": [],
   "source": [
    "with open('test.txt', 'r') as file:\n",
    "    test2 = file.read()\n",
    "if test1 == test2:\n",
    "    print(\"The contents of test1 and test2 are the same.\")\n",
    "else:\n",
    "    print(\"The contents of test1 and test2 are different.\")\n"
   ]
  },
  {
   "cell_type": "code",
   "execution_count": null,
   "id": "ef0905d4",
   "metadata": {},
   "outputs": [],
   "source": []
  },
  {
   "cell_type": "markdown",
   "id": "e4f9d94f",
   "metadata": {},
   "source": [
    "3. Create a CSV file called books.csv by using these lines:\n",
    "title,author,year\n",
    "The Weirdstone of Brisingamen,Alan Garner,1960\n",
    "Perdido Street Station,China Miéville,2000\n",
    "Thud!,Terry Pratchett,2005\n",
    "The Spellman Files,Lisa Lutz,2007\n",
    "Small Gods,Terry Pratchett,1992\n"
   ]
  },
  {
   "cell_type": "code",
   "execution_count": null,
   "id": "ab6eb079",
   "metadata": {},
   "outputs": [],
   "source": [
    "import csv\n",
    "\n",
    "lines = [\n",
    "    ['title', 'author', 'year'],\n",
    "    ['The Weirdstone of Brisingamen', 'Alan Garner', '1960'],\n",
    "    ['Perdido Street Station', 'China Miéville', '2000'],\n",
    "    ['Thud!', 'Terry Pratchett', '2005'],\n",
    "    ['The Spellman Files', 'Lisa Lutz', '2007'],\n",
    "    ['Small Gods', 'Terry Pratchett', '1992']\n",
    "]\n",
    "\n",
    "with open('books.csv', 'w', newline='') as file:\n",
    "    writer = csv.writer(file)\n",
    "    writer.writerows(lines)\n"
   ]
  },
  {
   "cell_type": "code",
   "execution_count": null,
   "id": "59c215b0",
   "metadata": {},
   "outputs": [],
   "source": []
  },
  {
   "cell_type": "markdown",
   "id": "51d78a01",
   "metadata": {},
   "source": [
    "4. Use the sqlite3 module to create a SQLite database called books.db, and a table called books with these fields: title (text), author (text), and year (integer)."
   ]
  },
  {
   "cell_type": "markdown",
   "id": "07dd764e",
   "metadata": {},
   "source": [
    "import sqlite3\n",
    "conn = sqlite3.connect('books.db')\n",
    "cursor = conn.cursor()\n",
    "cursor.execute('''CREATE TABLE books\n",
    "                  (title TEXT, author TEXT, year INTEGER)''')\n",
    "\n",
    "conn.commit()\n",
    "conn.close()\n"
   ]
  },
  {
   "cell_type": "code",
   "execution_count": null,
   "id": "efb5ad4f",
   "metadata": {},
   "outputs": [],
   "source": []
  },
  {
   "cell_type": "markdown",
   "id": "c744fbb2",
   "metadata": {},
   "source": [
    "5. Read books.csv and insert its data into the book table."
   ]
  },
  {
   "cell_type": "code",
   "execution_count": null,
   "id": "9ebcbd2e",
   "metadata": {},
   "outputs": [],
   "source": [
    "import csv\n",
    "import sqlite3\n",
    "with open('books.csv', 'r') as file:\n",
    "    reader = csv.reader(file)\n",
    "\n",
    "    conn = sqlite3.connect('books.db')\n",
    "    cursor = conn.cursor()\n",
    "    for row in reader:\n",
    "        cursor.execute(\"INSERT INTO books (title, author, year) VALUES (?, ?, ?)\", row)\n",
    "    conn.commit()\n",
    "    conn.close()\n"
   ]
  },
  {
   "cell_type": "code",
   "execution_count": null,
   "id": "4ae143ab",
   "metadata": {},
   "outputs": [],
   "source": []
  },
  {
   "cell_type": "markdown",
   "id": "96f0ad10",
   "metadata": {},
   "source": [
    "6. Select and print the title column from the book table in alphabetical order."
   ]
  },
  {
   "cell_type": "code",
   "execution_count": null,
   "id": "9302987d",
   "metadata": {},
   "outputs": [],
   "source": [
    "import sqlite3\n",
    "conn = sqlite3.connect('books.db')\n",
    "cursor = conn.cursor()\n",
    "cursor.execute(\"SELECT title FROM books ORDER BY title ASC\")\n",
    "rows = cursor.fetchall()\n",
    "for row in rows:\n",
    "    print(row[0])\n",
    "conn.close()\n"
   ]
  },
  {
   "cell_type": "code",
   "execution_count": null,
   "id": "13db898b",
   "metadata": {},
   "outputs": [],
   "source": []
  },
  {
   "cell_type": "markdown",
   "id": "67efd1e0",
   "metadata": {},
   "source": [
    "7. From the book table, select and print all columns in the order of publication."
   ]
  },
  {
   "cell_type": "code",
   "execution_count": null,
   "id": "3d9d42a5",
   "metadata": {},
   "outputs": [],
   "source": [
    "import sqlite3\n",
    "conn = sqlite3.connect('books.db')\n",
    "cursor = conn.cursor()\n",
    "cursor.execute(\"SELECT * FROM books ORDER BY year ASC\")\n",
    "rows = cursor.fetchall()\n",
    "for row in rows:\n",
    "    print(row)\n",
    "conn.close()\n"
   ]
  },
  {
   "cell_type": "code",
   "execution_count": null,
   "id": "ae6adb84",
   "metadata": {},
   "outputs": [],
   "source": []
  },
  {
   "cell_type": "markdown",
   "id": "3e51772d",
   "metadata": {},
   "source": [
    "8. Use the sqlalchemy module to connect to the sqlite3 database books.db that you just made in exercise 6."
   ]
  },
  {
   "cell_type": "code",
   "execution_count": null,
   "id": "31b2f0a4",
   "metadata": {},
   "outputs": [],
   "source": [
    "from sqlalchemy import create_engine\n",
    "engine = create_engine('sqlite:///books.db')\n",
    "conn = engine.connect()\n",
    "conn.close()\n"
   ]
  },
  {
   "cell_type": "code",
   "execution_count": null,
   "id": "5b65f832",
   "metadata": {},
   "outputs": [],
   "source": []
  },
  {
   "cell_type": "markdown",
   "id": "93b20bdd",
   "metadata": {},
   "source": [
    "9. Install the Redis server and the Python redis library (pip install redis) on your computer. Create a Redis hash called test with the fields count (1) and name ('Fester Bestertester'). Print all the fields for test."
   ]
  },
  {
   "cell_type": "code",
   "execution_count": null,
   "id": "70be5b7c",
   "metadata": {},
   "outputs": [],
   "source": [
    "import redis\n",
    "r = redis.Redis()\n",
    "r.hset('test', 'count', 1)\n",
    "r.hset('test', 'name', 'Fester Bestertester')\n",
    "fields = r.hgetall('test')\n",
    "for field, value in fields.items():\n",
    "    print(f'{field}: {value.decode()}')\n"
   ]
  },
  {
   "cell_type": "code",
   "execution_count": null,
   "id": "d932c01a",
   "metadata": {},
   "outputs": [],
   "source": []
  },
  {
   "cell_type": "markdown",
   "id": "46fe5300",
   "metadata": {},
   "source": [
    "10. Increment the count field of test and print it."
   ]
  },
  {
   "cell_type": "code",
   "execution_count": null,
   "id": "ee5c1a41",
   "metadata": {},
   "outputs": [],
   "source": [
    "import redis\n",
    "r = redis.Redis()\n",
    "r.hincrby('test', 'count')\n",
    "count = r.hget('test', 'count')\n",
    "print(f\"Updated count: {count.decode()}\")\n"
   ]
  }
 ],
 "metadata": {
  "kernelspec": {
   "display_name": "Python 3 (ipykernel)",
   "language": "python",
   "name": "python3"
  },
  "language_info": {
   "codemirror_mode": {
    "name": "ipython",
    "version": 3
   },
   "file_extension": ".py",
   "mimetype": "text/x-python",
   "name": "python",
   "nbconvert_exporter": "python",
   "pygments_lexer": "ipython3",
   "version": "3.10.9"
  }
 },
 "nbformat": 4,
 "nbformat_minor": 5
}
