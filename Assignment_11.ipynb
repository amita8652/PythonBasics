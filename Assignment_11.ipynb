{
 "cells": [
  {
   "cell_type": "markdown",
   "id": "507e86fa",
   "metadata": {},
   "source": [
    "1. Create an assert statement that throws an AssertionError if the variable spam is a negative integer."
   ]
  },
  {
   "cell_type": "markdown",
   "id": "9639000c",
   "metadata": {},
   "source": [
    "We can use the assert statement with a condition to check if the variable spam is a negative integer. If the condition evaluates to False, an AssertionError will be raised."
   ]
  },
  {
   "cell_type": "code",
   "execution_count": null,
   "id": "1d55ee79",
   "metadata": {},
   "outputs": [],
   "source": [
    "spam = -5 \n",
    "assert spam >= 0, \"Variable 'spam' should not be a negative integer.\"\n"
   ]
  },
  {
   "cell_type": "code",
   "execution_count": null,
   "id": "db23f2bd",
   "metadata": {},
   "outputs": [],
   "source": []
  },
  {
   "cell_type": "markdown",
   "id": "7db87587",
   "metadata": {},
   "source": [
    "2. Write an assert statement that triggers an AssertionError if the variables eggs and bacon contain strings that are the same as each other, even if their cases are different (that is, 'hello' and 'hello' are considered the same, and 'goodbye' and 'GOODbye' are also considered the same)."
   ]
  },
  {
   "cell_type": "markdown",
   "id": "7da7d276",
   "metadata": {},
   "source": [
    "To compare the strings eggs and bacon while ignoring the case sensitivity, you can convert both strings to lowercase using the lower() method before comparing them."
   ]
  },
  {
   "cell_type": "code",
   "execution_count": null,
   "id": "9769be0b",
   "metadata": {},
   "outputs": [],
   "source": [
    "eggs = 'Hello'\n",
    "bacon = 'hello'\n",
    "assert eggs.lower() != bacon.lower(), \"Variables 'eggs' and 'bacon' should not be the same.\"\n"
   ]
  },
  {
   "cell_type": "code",
   "execution_count": null,
   "id": "e663957b",
   "metadata": {},
   "outputs": [],
   "source": []
  },
  {
   "cell_type": "markdown",
   "id": "0d581d2a",
   "metadata": {},
   "source": [
    "3. Create an assert statement that throws an AssertionError every time."
   ]
  },
  {
   "cell_type": "code",
   "execution_count": null,
   "id": "43127f44",
   "metadata": {},
   "outputs": [],
   "source": [
    "# Assert False condition to always trigger an AssertionError\n",
    "assert False, \"This assert statement always raises an AssertionError.\"\n"
   ]
  },
  {
   "cell_type": "code",
   "execution_count": null,
   "id": "907ac2c2",
   "metadata": {},
   "outputs": [],
   "source": []
  },
  {
   "cell_type": "markdown",
   "id": "34c735b9",
   "metadata": {},
   "source": [
    "4. What are the two lines that must be present in your software in order to call logging.debug()?"
   ]
  },
  {
   "cell_type": "code",
   "execution_count": null,
   "id": "d78e3f45",
   "metadata": {},
   "outputs": [],
   "source": [
    "import logging\n",
    "logging.basicConfig(level=logging.DEBUG)"
   ]
  },
  {
   "cell_type": "code",
   "execution_count": null,
   "id": "b4241017",
   "metadata": {},
   "outputs": [],
   "source": []
  },
  {
   "cell_type": "markdown",
   "id": "bc6633f1",
   "metadata": {},
   "source": [
    "5. What are the two lines that your program must have in order to have logging.debug() send a logging message to a file named programLog.txt?"
   ]
  },
  {
   "cell_type": "code",
   "execution_count": null,
   "id": "595f7a66",
   "metadata": {},
   "outputs": [],
   "source": [
    "import logging\n",
    "logging.basicConfig(filename='programLog.txt', level=logging.DEBUG)"
   ]
  },
  {
   "cell_type": "code",
   "execution_count": null,
   "id": "d6455dd6",
   "metadata": {},
   "outputs": [],
   "source": [
    "import logging\n",
    "logging.basicConfig(filename='programLog.txt', level=logging.DEBUG)\n",
    "logging.debug(\"This is a debug message\")"
   ]
  },
  {
   "cell_type": "code",
   "execution_count": null,
   "id": "3901919a",
   "metadata": {},
   "outputs": [],
   "source": []
  },
  {
   "cell_type": "markdown",
   "id": "1479362d",
   "metadata": {},
   "source": [
    "6. What are the five levels of logging?"
   ]
  },
  {
   "cell_type": "markdown",
   "id": "cde04d38",
   "metadata": {},
   "source": [
    "The five levels of logging in Python, in increasing order of severity, are:\n",
    "\n",
    "DEBUG: Detailed information, typically used for debugging purposes.\n",
    "\n",
    "INFO: General information about the program's execution.\n",
    "\n",
    "WARNING: Indicates a potential issue or something that may cause problems in the future, but the program can still continue execution.\n",
    "\n",
    "ERROR: Indicates a more serious issue that prevents the program from performing a specific function or task.\n",
    "\n",
    "CRITICAL: Indicates a critical error or failure that may result in the program's termination."
   ]
  },
  {
   "cell_type": "code",
   "execution_count": null,
   "id": "7f719307",
   "metadata": {},
   "outputs": [],
   "source": []
  },
  {
   "cell_type": "markdown",
   "id": "1fff8f78",
   "metadata": {},
   "source": [
    "7. What line of code would you add to your software to disable all logging messages?"
   ]
  },
  {
   "cell_type": "code",
   "execution_count": 1,
   "id": "ff512973",
   "metadata": {},
   "outputs": [],
   "source": [
    "import logging\n",
    "logging.disable(logging.CRITICAL)"
   ]
  },
  {
   "cell_type": "code",
   "execution_count": null,
   "id": "a7f1e210",
   "metadata": {},
   "outputs": [],
   "source": []
  },
  {
   "cell_type": "markdown",
   "id": "04edbc3f",
   "metadata": {},
   "source": [
    "8.Why is using logging messages better than using print() to display the same message?"
   ]
  },
  {
   "cell_type": "markdown",
   "id": "c958147b",
   "metadata": {},
   "source": [
    "Using logging messages is generally considered better than using print() statements for several reasons:\n",
    "\n",
    "Configurability: Logging provides a way to configure the behavior of log messages, such as the log level, output format, and destination (console, file, etc.). This allows you to control what gets logged and where it goes without modifying the code. With print(), you need to manually remove or modify print statements when you no longer need them.\n",
    "\n",
    "Granularity and Levels: Logging offers different levels of severity (DEBUG, INFO, WARNING, ERROR, CRITICAL), allowing you to prioritize and filter log messages based on their importance. This makes it easier to focus on specific areas of interest during debugging and troubleshooting.\n",
    "\n",
    "Flexibility: Logging allows you to capture detailed information, such as timestamps, module names, and line numbers, which can be invaluable for diagnosing issues in complex systems. Additionally, logging supports multiple handlers and formatters, giving you flexibility in how the log messages are processed and presented.\n",
    "\n",
    "Production Readiness: Logging is designed to be used in production environments and can handle large-scale logging with minimal performance impact. It provides features like log rotation, log file management, and log level adjustment on the fly, making it suitable for long-running applications."
   ]
  },
  {
   "cell_type": "code",
   "execution_count": null,
   "id": "00b97d05",
   "metadata": {},
   "outputs": [],
   "source": []
  },
  {
   "cell_type": "markdown",
   "id": "08963aaf",
   "metadata": {},
   "source": [
    "9. What are the differences between the Step Over, Step In, and Step Out buttons in the debugger?"
   ]
  },
  {
   "cell_type": "markdown",
   "id": "2dd38140",
   "metadata": {},
   "source": [
    "The Step Over, Step In, and Step Out buttons in the debugger are used to control the execution flow during debugging. Here are the differences between these buttons:\n",
    "\n",
    "Step Over: The Step Over button allows you to execute the current line of code and move to the next line. If the current line contains a function call, it will execute the entire function without stepping into it. This means that the debugger will treat the function call as a single step and will not break into the function's code.\n",
    "\n",
    "Step In: The Step In button allows you to step into a function call and move to the first line of the called function. If the current line contains a function call, pressing Step In will take you inside the function and allow you to debug the function's code line by line.\n",
    "\n",
    "Step Out: The Step Out button is used when you want to quickly execute the remaining lines of a function and return to the caller. It is useful when you are inside a function and want to quickly exit it without stepping through every line of the function's code. When you press Step Out, the debugger will execute the remaining lines of the current function and then break at the next line of the calling function."
   ]
  },
  {
   "cell_type": "code",
   "execution_count": null,
   "id": "6863a6a2",
   "metadata": {},
   "outputs": [],
   "source": []
  },
  {
   "cell_type": "markdown",
   "id": "2e3326ab",
   "metadata": {},
   "source": [
    "10.After you click Continue, when will the debugger stop ?"
   ]
  },
  {
   "cell_type": "markdown",
   "id": "a28af9d5",
   "metadata": {},
   "source": [
    "After clicking Continue in the debugger, the debugger will stop when it encounters one of the following conditions:\n",
    "\n",
    "Breakpoint: If you have set a breakpoint at a specific line of code, the debugger will stop when it reaches that line. Breakpoints allow you to pause the execution of your program at specific points to inspect variables, step through code, or analyze program behavior.\n",
    "\n",
    "Exception: If an unhandled exception occurs during the execution of your program, the debugger will stop and display the details of the exception. This allows you to examine the state of your program at the point of the exception and analyze the cause of the error.\n",
    "\n",
    "End of Program: The debugger will also stop when the program execution completes normally. This happens when the program reaches the end of the script or encounters a return statement in the main code flow."
   ]
  },
  {
   "cell_type": "code",
   "execution_count": null,
   "id": "439fff4b",
   "metadata": {},
   "outputs": [],
   "source": []
  },
  {
   "cell_type": "markdown",
   "id": "12732303",
   "metadata": {},
   "source": [
    "11. What is the concept of a breakpoint?"
   ]
  },
  {
   "cell_type": "markdown",
   "id": "98257e94",
   "metadata": {},
   "source": [
    "The concept of a breakpoint is a debugging feature that allows you to pause the execution of a program at a specific line of code. By setting breakpoints, you can temporarily halt the program's execution at designated points and examine the program's state, variables, and flow to identify and debug issues.\n",
    "\n",
    "Breakpoints are commonly used during the debugging process to gain insights into the program's behavior and track down errors or unexpected behavior. They are especially useful when you want to analyze the program's state at a specific point in the code or step through the code line by line."
   ]
  }
 ],
 "metadata": {
  "kernelspec": {
   "display_name": "Python 3 (ipykernel)",
   "language": "python",
   "name": "python3"
  },
  "language_info": {
   "codemirror_mode": {
    "name": "ipython",
    "version": 3
   },
   "file_extension": ".py",
   "mimetype": "text/x-python",
   "name": "python",
   "nbconvert_exporter": "python",
   "pygments_lexer": "ipython3",
   "version": "3.10.9"
  }
 },
 "nbformat": 4,
 "nbformat_minor": 5
}
