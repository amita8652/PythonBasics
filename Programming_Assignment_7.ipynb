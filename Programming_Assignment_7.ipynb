{
 "cells": [
  {
   "cell_type": "markdown",
   "id": "2a2bf6b3",
   "metadata": {},
   "source": [
    "1.\tWrite a Python Program to find sum of array?"
   ]
  },
  {
   "cell_type": "code",
   "execution_count": 7,
   "id": "f9a5fbd2",
   "metadata": {},
   "outputs": [
    {
     "name": "stdout",
     "output_type": "stream",
     "text": [
      "Enter the elements of the array (space-separated): 12 23 34 45 56 \n",
      "The sum of the array is: 170\n"
     ]
    }
   ],
   "source": [
    "def sum_array(arr):\n",
    "    sum = 0\n",
    "    for num in arr:\n",
    "        sum += num\n",
    "    return sum\n",
    "\n",
    "elements = input(\"Enter the elements of the array (space-separated): \")\n",
    "\n",
    "arr = list(map(int, elements.split()))\n",
    "\n",
    "result = sum_array(arr)\n",
    "\n",
    "print(\"The sum of the array is:\", result)\n"
   ]
  },
  {
   "cell_type": "code",
   "execution_count": null,
   "id": "efcd9c97",
   "metadata": {},
   "outputs": [],
   "source": []
  },
  {
   "cell_type": "markdown",
   "id": "922f6bb9",
   "metadata": {},
   "source": [
    "2.\tWrite a Python Program to find largest element in an array?"
   ]
  },
  {
   "cell_type": "code",
   "execution_count": 8,
   "id": "f0f1120e",
   "metadata": {},
   "outputs": [
    {
     "name": "stdout",
     "output_type": "stream",
     "text": [
      "Enter the elements of the array (space-separated): 34 45 56 78 89 \n",
      "The largest element in the array is: 89\n"
     ]
    }
   ],
   "source": [
    "def find_largest_element(arr):\n",
    "    largest = arr[0]\n",
    "    for num in arr:\n",
    "        if num > largest:\n",
    "            largest = num\n",
    "    return largest\n",
    "\n",
    "elements = input(\"Enter the elements of the array (space-separated): \")\n",
    "arr = list(map(int, elements.split()))\n",
    "result = find_largest_element(arr)\n",
    "print(\"The largest element in the array is:\", result)\n"
   ]
  },
  {
   "cell_type": "code",
   "execution_count": null,
   "id": "23d30ea9",
   "metadata": {},
   "outputs": [],
   "source": []
  },
  {
   "cell_type": "markdown",
   "id": "f8b8bd3a",
   "metadata": {},
   "source": [
    "3.\tWrite a Python Program for array rotation?"
   ]
  },
  {
   "cell_type": "code",
   "execution_count": 9,
   "id": "ca904d63",
   "metadata": {},
   "outputs": [
    {
     "name": "stdout",
     "output_type": "stream",
     "text": [
      "Enter the elements of the array (space-separated): 12 23 34 45 56 67 \n",
      "Enter the number of rotations: 23\n",
      "Original array: [12, 23, 34, 45, 56, 67]\n",
      "Rotated array: [67, 12, 23, 34, 45, 56]\n"
     ]
    }
   ],
   "source": [
    "def rotate_array(arr, k):\n",
    "   \n",
    "    k = k % len(arr)\n",
    "\n",
    "\n",
    "    rotated_arr = arr[k:] + arr[:k]\n",
    "    return rotated_arr\n",
    "\n",
    "\n",
    "elements = input(\"Enter the elements of the array (space-separated): \")\n",
    "k = int(input(\"Enter the number of rotations: \"))\n",
    "\n",
    "\n",
    "arr = list(map(int, elements.split()))\n",
    "\n",
    "\n",
    "rotated_array = rotate_array(arr, k)\n",
    "\n",
    "print(\"Original array:\", arr)\n",
    "print(\"Rotated array:\", rotated_array)\n"
   ]
  },
  {
   "cell_type": "code",
   "execution_count": null,
   "id": "4fcf9820",
   "metadata": {},
   "outputs": [],
   "source": []
  },
  {
   "cell_type": "markdown",
   "id": "3036d606",
   "metadata": {},
   "source": [
    "4.\tWrite a Python Program to Split the array and add the first part to the end?"
   ]
  },
  {
   "cell_type": "code",
   "execution_count": 10,
   "id": "8b0e40f1",
   "metadata": {},
   "outputs": [
    {
     "name": "stdout",
     "output_type": "stream",
     "text": [
      "Enter the elements of the array (space-separated): 23 45 67 89 90\n",
      "Enter the split index: 34\n",
      "Original array: [23, 45, 67, 89, 90]\n",
      "Result array: [23, 45, 67, 89, 90]\n"
     ]
    }
   ],
   "source": [
    "def split_and_add(arr, k):\n",
    "    if k <= 0 or k >= len(arr):\n",
    "        return arr\n",
    "  \n",
    "    first_part = arr[:k]\n",
    "    second_part = arr[k:]\n",
    "\n",
    "\n",
    "    rotated_arr = second_part + first_part\n",
    "    return rotated_arr\n",
    "\n",
    "elements = input(\"Enter the elements of the array (space-separated): \")\n",
    "k = int(input(\"Enter the split index: \"))\n",
    "\n",
    "arr = list(map(int, elements.split()))\n",
    "\n",
    "result_array = split_and_add(arr, k)\n",
    "\n",
    "print(\"Original array:\", arr)\n",
    "print(\"Result array:\", result_array)\n"
   ]
  },
  {
   "cell_type": "code",
   "execution_count": null,
   "id": "8931fe6d",
   "metadata": {},
   "outputs": [],
   "source": []
  },
  {
   "cell_type": "markdown",
   "id": "7a2f4076",
   "metadata": {},
   "source": [
    "5.\tWrite a Python Program to check if given array is Monotonic?"
   ]
  },
  {
   "cell_type": "code",
   "execution_count": 11,
   "id": "31ada78f",
   "metadata": {},
   "outputs": [
    {
     "name": "stdout",
     "output_type": "stream",
     "text": [
      "Enter the elements of the array (space-separated): 12 23 34 45 56 68 \n",
      "The array is monotonic.\n"
     ]
    }
   ],
   "source": [
    "def is_monotonic(arr):\n",
    "    increasing = decreasing = True\n",
    "\n",
    "    for i in range(1, len(arr)):\n",
    "        if arr[i] < arr[i - 1]:\n",
    "            increasing = False\n",
    "        if arr[i] > arr[i - 1]:\n",
    "            decreasing = False\n",
    "\n",
    "    return increasing or decreasing\n",
    "elements = input(\"Enter the elements of the array (space-separated): \")\n",
    "\n",
    "arr = list(map(int, elements.split()))\n",
    "is_monotonic_array = is_monotonic(arr)\n",
    "if is_monotonic_array:\n",
    "    print(\"The array is monotonic.\")\n",
    "else:\n",
    "    print(\"The array is not monotonic.\")\n"
   ]
  }
 ],
 "metadata": {
  "kernelspec": {
   "display_name": "Python 3 (ipykernel)",
   "language": "python",
   "name": "python3"
  },
  "language_info": {
   "codemirror_mode": {
    "name": "ipython",
    "version": 3
   },
   "file_extension": ".py",
   "mimetype": "text/x-python",
   "name": "python",
   "nbconvert_exporter": "python",
   "pygments_lexer": "ipython3",
   "version": "3.10.9"
  }
 },
 "nbformat": 4,
 "nbformat_minor": 5
}
