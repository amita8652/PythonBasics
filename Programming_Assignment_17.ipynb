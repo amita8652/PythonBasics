{
 "cells": [
  {
   "cell_type": "markdown",
   "id": "22c1c64b",
   "metadata": {},
   "source": [
    "Question1. Create a function that takes three arguments a, b, c and returns the sum of the numbers that are evenly divided by c from the range a, b inclusive."
   ]
  },
  {
   "cell_type": "code",
   "execution_count": 2,
   "id": "263c6c88",
   "metadata": {},
   "outputs": [
    {
     "name": "stdout",
     "output_type": "stream",
     "text": [
      "30\n",
      "42\n",
      "1050\n"
     ]
    }
   ],
   "source": [
    "def sum_divisible_by_c(a, b, c):\n",
    "    total = 0\n",
    "    for num in range(a, b+1):\n",
    "        if num % c == 0:\n",
    "            total += num\n",
    "    return total\n",
    "\n",
    "print(sum_divisible_by_c(1, 10, 2)) \n",
    "print(sum_divisible_by_c(5, 15, 3))  \n",
    "print(sum_divisible_by_c(1, 100, 5))  \n"
   ]
  },
  {
   "cell_type": "code",
   "execution_count": null,
   "id": "73dc4475",
   "metadata": {},
   "outputs": [],
   "source": []
  },
  {
   "cell_type": "markdown",
   "id": "4f779250",
   "metadata": {},
   "source": [
    "Question2. Create a function that returns True if a given inequality expression is correct and False otherwise."
   ]
  },
  {
   "cell_type": "code",
   "execution_count": 4,
   "id": "79a52fd9",
   "metadata": {},
   "outputs": [
    {
     "name": "stdout",
     "output_type": "stream",
     "text": [
      "True\n",
      "False\n",
      "True\n",
      "False\n"
     ]
    }
   ],
   "source": [
    "def evaluate_inequality(expression):\n",
    "    try:\n",
    "        result = eval(expression)\n",
    "        return bool(result)\n",
    "    except (SyntaxError, NameError):\n",
    "        return False\n",
    "\n",
    "print(evaluate_inequality(\"2 + 2 == 4\")) \n",
    "print(evaluate_inequality(\"3 * 5 <= 10\"))  \n",
    "print(evaluate_inequality(\"6 > 3 and 8 < 10\"))  \n",
    "print(evaluate_inequality(\"x + 5 == 10\"))  \n"
   ]
  },
  {
   "cell_type": "code",
   "execution_count": null,
   "id": "5835fba9",
   "metadata": {},
   "outputs": [],
   "source": []
  },
  {
   "cell_type": "markdown",
   "id": "637bb820",
   "metadata": {},
   "source": [
    "Question3. Create a function that replaces all the vowels in a string with a specified character."
   ]
  },
  {
   "cell_type": "code",
   "execution_count": 6,
   "id": "019b8604",
   "metadata": {},
   "outputs": [
    {
     "name": "stdout",
     "output_type": "stream",
     "text": [
      "H*ll*, W*rld!\n"
     ]
    }
   ],
   "source": [
    "def replace_vowels(string, character):\n",
    "    vowels = 'aeiouAEIOU'\n",
    "    for vowel in vowels:\n",
    "        string = string.replace(vowel, character)\n",
    "    return string\n",
    "\n",
    "text = \"Hello, World!\"\n",
    "result = replace_vowels(text, '*')\n",
    "print(result)  \n"
   ]
  },
  {
   "cell_type": "code",
   "execution_count": null,
   "id": "7ad282fd",
   "metadata": {},
   "outputs": [],
   "source": []
  },
  {
   "cell_type": "markdown",
   "id": "84f29bda",
   "metadata": {},
   "source": [
    "Question4. Write a function that calculates the factorial of a number recursively."
   ]
  },
  {
   "cell_type": "code",
   "execution_count": 7,
   "id": "8c32d4ae",
   "metadata": {},
   "outputs": [
    {
     "name": "stdout",
     "output_type": "stream",
     "text": [
      "The factorial of 5 is: 120\n"
     ]
    }
   ],
   "source": [
    "def factorial_recursive(n):\n",
    "  \n",
    "    if n == 0:\n",
    "        return 1\n",
    "   \n",
    "    else:\n",
    "        return n * factorial_recursive(n - 1)\n",
    "\n",
    "number = 5\n",
    "result = factorial_recursive(number)\n",
    "print(f\"The factorial of {number} is: {result}\") \n"
   ]
  },
  {
   "cell_type": "code",
   "execution_count": null,
   "id": "53566573",
   "metadata": {},
   "outputs": [],
   "source": []
  },
  {
   "cell_type": "markdown",
   "id": "37b6ef69",
   "metadata": {},
   "source": [
    "Question 5\n",
    "Hamming distance is the number of characters that differ between two strings.\n"
   ]
  },
  {
   "cell_type": "code",
   "execution_count": 9,
   "id": "56360025",
   "metadata": {},
   "outputs": [
    {
     "name": "stdout",
     "output_type": "stream",
     "text": [
      "The Hamming distance between 'karolin' and 'kathrin' is: 3\n"
     ]
    }
   ],
   "source": [
    "def hamming_distance(str1, str2):\n",
    "    \n",
    "    if len(str1) != len(str2):\n",
    "        raise ValueError(\"Strings must have equal length\")\n",
    "    \n",
    "    distance = 0\n",
    "    for i in range(len(str1)):\n",
    "        if str1[i] != str2[i]:\n",
    "            distance += 1\n",
    "    \n",
    "    return distance\n",
    "\n",
    "string1 = \"karolin\"\n",
    "string2 = \"kathrin\"\n",
    "distance = hamming_distance(string1, string2)\n",
    "print(f\"The Hamming distance between '{string1}' and '{string2}' is: {distance}\")  \n"
   ]
  },
  {
   "cell_type": "code",
   "execution_count": null,
   "id": "6bc8421f",
   "metadata": {},
   "outputs": [],
   "source": []
  }
 ],
 "metadata": {
  "kernelspec": {
   "display_name": "Python 3 (ipykernel)",
   "language": "python",
   "name": "python3"
  },
  "language_info": {
   "codemirror_mode": {
    "name": "ipython",
    "version": 3
   },
   "file_extension": ".py",
   "mimetype": "text/x-python",
   "name": "python",
   "nbconvert_exporter": "python",
   "pygments_lexer": "ipython3",
   "version": "3.10.9"
  }
 },
 "nbformat": 4,
 "nbformat_minor": 5
}
