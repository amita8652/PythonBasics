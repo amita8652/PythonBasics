{
 "cells": [
  {
   "cell_type": "markdown",
   "id": "ea81b88c",
   "metadata": {},
   "source": [
    "1.\tWrite a Python Program to Find the Factorial of a Number?"
   ]
  },
  {
   "cell_type": "code",
   "execution_count": 3,
   "id": "40ac04fa",
   "metadata": {},
   "outputs": [
    {
     "name": "stdout",
     "output_type": "stream",
     "text": [
      "Enter a number: 5\n",
      "The factorial of 5 is 120\n"
     ]
    }
   ],
   "source": [
    "def factorial(number):\n",
    "    if number == 0:\n",
    "        return 1\n",
    "    else:\n",
    "        return number * factorial(number - 1)\n",
    "\n",
    "number = int(input(\"Enter a number: \"))\n",
    "result = factorial(number)\n",
    "print(\"The factorial of\", number, \"is\", result)\n"
   ]
  },
  {
   "cell_type": "code",
   "execution_count": null,
   "id": "9eab4c42",
   "metadata": {},
   "outputs": [],
   "source": []
  },
  {
   "cell_type": "markdown",
   "id": "8e6442eb",
   "metadata": {},
   "source": [
    "2.\tWrite a Python Program to Display the multiplication Table?"
   ]
  },
  {
   "cell_type": "code",
   "execution_count": 4,
   "id": "b3570d32",
   "metadata": {},
   "outputs": [
    {
     "name": "stdout",
     "output_type": "stream",
     "text": [
      "Enter a number: 56\n",
      "Multiplication table for 56\n",
      "56 x 1 = 56\n",
      "56 x 2 = 112\n",
      "56 x 3 = 168\n",
      "56 x 4 = 224\n",
      "56 x 5 = 280\n",
      "56 x 6 = 336\n",
      "56 x 7 = 392\n",
      "56 x 8 = 448\n",
      "56 x 9 = 504\n",
      "56 x 10 = 560\n"
     ]
    }
   ],
   "source": [
    "def display_multiplication_table(number):\n",
    "    for i in range(1, 11):\n",
    "        product = number * i\n",
    "        print(number, \"x\", i, \"=\", product)\n",
    "\n",
    "number = int(input(\"Enter a number: \"))\n",
    "print(\"Multiplication table for\", number)\n",
    "display_multiplication_table(number)\n"
   ]
  },
  {
   "cell_type": "code",
   "execution_count": null,
   "id": "134910ac",
   "metadata": {},
   "outputs": [],
   "source": []
  },
  {
   "cell_type": "markdown",
   "id": "30100a1f",
   "metadata": {},
   "source": [
    "3.\tWrite a Python Program to Print the Fibonacci sequence?"
   ]
  },
  {
   "cell_type": "code",
   "execution_count": 6,
   "id": "693476fc",
   "metadata": {},
   "outputs": [
    {
     "name": "stdout",
     "output_type": "stream",
     "text": [
      "Enter the number of terms in the Fibonacci sequence: 10\n",
      "Fibonacci sequence:\n",
      "[0, 1, 1, 2, 3, 5, 8, 13, 21, 34, 55]\n"
     ]
    }
   ],
   "source": [
    "def fibonacci_sequence(n):\n",
    "    sequence = [0, 1]  \n",
    "\n",
    "    if n <= 1:\n",
    "        return sequence[:n+1]\n",
    "\n",
    "    for i in range(2, n+1):\n",
    "        next_number = sequence[i-1] + sequence[i-2]\n",
    "        sequence.append(next_number)\n",
    "\n",
    "    return sequence\n",
    "\n",
    "terms = int(input(\"Enter the number of terms in the Fibonacci sequence: \"))\n",
    "fibonacci_seq = fibonacci_sequence(terms)\n",
    "print(\"Fibonacci sequence:\")\n",
    "print(fibonacci_seq)\n"
   ]
  },
  {
   "cell_type": "code",
   "execution_count": null,
   "id": "b8fe3884",
   "metadata": {},
   "outputs": [],
   "source": []
  },
  {
   "cell_type": "markdown",
   "id": "2263be00",
   "metadata": {},
   "source": [
    "4.\tWrite a Python Program to Check Armstrong Number?"
   ]
  },
  {
   "cell_type": "code",
   "execution_count": 7,
   "id": "d2b4009e",
   "metadata": {},
   "outputs": [
    {
     "name": "stdout",
     "output_type": "stream",
     "text": [
      "Enter a number: 67\n",
      "67 is not an Armstrong number.\n"
     ]
    }
   ],
   "source": [
    "def check_armstrong_number(number):\n",
    "    \n",
    "    num_str = str(number)\n",
    "    num_length = len(num_str)\n",
    "\n",
    "    sum_of_cubes = 0\n",
    "    for digit in num_str:\n",
    "        sum_of_cubes += int(digit) ** num_length\n",
    "\n",
    "    if sum_of_cubes == number:\n",
    "        return True\n",
    "    else:\n",
    "        return False\n",
    "\n",
    "number = int(input(\"Enter a number: \"))\n",
    "is_armstrong = check_armstrong_number(number)\n",
    "if is_armstrong:\n",
    "    print(number, \"is an Armstrong number.\")\n",
    "else:\n",
    "    print(number, \"is not an Armstrong number.\")\n"
   ]
  },
  {
   "cell_type": "code",
   "execution_count": null,
   "id": "82a5b924",
   "metadata": {},
   "outputs": [],
   "source": []
  },
  {
   "cell_type": "markdown",
   "id": "8585f942",
   "metadata": {},
   "source": [
    "5.\tWrite a Python Program to Find Armstrong Number in an Interval?"
   ]
  },
  {
   "cell_type": "code",
   "execution_count": 8,
   "id": "f0b86f82",
   "metadata": {},
   "outputs": [
    {
     "name": "stdout",
     "output_type": "stream",
     "text": [
      "Enter the starting number of the interval: 34\n",
      "Enter the ending number of the interval: 78\n",
      "Armstrong numbers in the interval 34 to 78 are:\n",
      "[]\n"
     ]
    }
   ],
   "source": [
    "def check_armstrong_number(number):\n",
    "   \n",
    "    num_str = str(number)\n",
    "    num_length = len(num_str)\n",
    "\n",
    "    sum_of_cubes = 0\n",
    "    for digit in num_str:\n",
    "        sum_of_cubes += int(digit) ** num_length\n",
    "\n",
    "    if sum_of_cubes == number:\n",
    "        return True\n",
    "    else:\n",
    "        return False\n",
    "\n",
    "start = int(input(\"Enter the starting number of the interval: \"))\n",
    "end = int(input(\"Enter the ending number of the interval: \"))\n",
    "\n",
    "armstrong_numbers = []\n",
    "for number in range(start, end + 1):\n",
    "    if check_armstrong_number(number):\n",
    "        armstrong_numbers.append(number)\n",
    "\n",
    "print(\"Armstrong numbers in the interval\", start, \"to\", end, \"are:\")\n",
    "print(armstrong_numbers)\n"
   ]
  },
  {
   "cell_type": "code",
   "execution_count": null,
   "id": "64b79f17",
   "metadata": {},
   "outputs": [],
   "source": []
  },
  {
   "cell_type": "markdown",
   "id": "085e5172",
   "metadata": {},
   "source": [
    "6.\tWrite a Python Program to Find the Sum of Natural Numbers?"
   ]
  },
  {
   "cell_type": "code",
   "execution_count": 9,
   "id": "302d0a83",
   "metadata": {},
   "outputs": [
    {
     "name": "stdout",
     "output_type": "stream",
     "text": [
      "Enter a number: 34\n",
      "The sum of natural numbers up to 34 is 595\n"
     ]
    }
   ],
   "source": [
    "def sum_of_natural_numbers(n):\n",
    "    sum = 0\n",
    "    for i in range(1, n + 1):\n",
    "        sum += i\n",
    "    return sum\n",
    "\n",
    "n = int(input(\"Enter a number: \"))\n",
    "result = sum_of_natural_numbers(n)\n",
    "print(\"The sum of natural numbers up to\", n, \"is\", result)\n"
   ]
  }
 ],
 "metadata": {
  "kernelspec": {
   "display_name": "Python 3 (ipykernel)",
   "language": "python",
   "name": "python3"
  },
  "language_info": {
   "codemirror_mode": {
    "name": "ipython",
    "version": 3
   },
   "file_extension": ".py",
   "mimetype": "text/x-python",
   "name": "python",
   "nbconvert_exporter": "python",
   "pygments_lexer": "ipython3",
   "version": "3.10.9"
  }
 },
 "nbformat": 4,
 "nbformat_minor": 5
}
