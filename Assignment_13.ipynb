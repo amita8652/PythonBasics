{
 "cells": [
  {
   "cell_type": "markdown",
   "id": "16e835ac",
   "metadata": {},
   "source": [
    "1. What advantages do Excel spreadsheets have over CSV spreadsheets?"
   ]
  },
  {
   "cell_type": "markdown",
   "id": "ea4d754e",
   "metadata": {},
   "source": [
    "Excel spreadsheets have several advantages over CSV (Comma-Separated Values) spreadsheets:\n",
    "\n",
    "Formatting and Styling: Excel supports rich formatting options such as font styles, colors, cell borders, conditional formatting, and cell merging. This allows for visually appealing and customized presentation of data, which is not possible in CSV files.\n",
    "\n",
    "Multiple Sheets: Excel allows you to have multiple sheets within a single workbook, providing a convenient way to organize and manage related data. Each sheet can have its own data, formatting, and formulas, making it easier to work with complex datasets.\n",
    "\n",
    "Formulas and Functions: Excel provides a wide range of built-in formulas and functions for performing calculations and data manipulation. These formulas can be applied across cells and sheets, allowing for powerful data analysis and automation.\n",
    "\n",
    "Data Validation and Protection: Excel offers features for data validation, allowing you to set restrictions on data entry (e.g., numeric values only, specific ranges). It also provides options for protecting sheets or workbooks with passwords, preventing unauthorized modifications.\n",
    "\n",
    "Charts and Graphs: Excel provides comprehensive charting capabilities, allowing you to create various types of charts and graphs to visualize data trends and patterns. These visual representations enhance data analysis and presentation."
   ]
  },
  {
   "cell_type": "code",
   "execution_count": null,
   "id": "d636dfff",
   "metadata": {},
   "outputs": [],
   "source": []
  },
  {
   "cell_type": "markdown",
   "id": "68161c02",
   "metadata": {},
   "source": [
    "2.What do you pass to csv.reader() and csv.writer() to create reader and writer objects?"
   ]
  },
  {
   "cell_type": "markdown",
   "id": "2b06859c",
   "metadata": {},
   "source": [
    "To create reader and writer objects using the csv.reader() and csv.writer() functions from the csv module, you need to pass file objects as parameters."
   ]
  },
  {
   "cell_type": "code",
   "execution_count": null,
   "id": "d06eba01",
   "metadata": {},
   "outputs": [],
   "source": [
    "#Creating a reader object:\n",
    "import csv\n",
    "\n",
    "with open('file.csv', 'r') as file:\n",
    "   \n",
    "    reader = csv.reader(file)\n",
    "    for row in reader:\n",
    "\n",
    "        print(row)\n"
   ]
  },
  {
   "cell_type": "code",
   "execution_count": null,
   "id": "63dd8ce2",
   "metadata": {},
   "outputs": [],
   "source": [
    "#creating a writer object\n",
    "import csv\n",
    "with open('output.csv', 'w', newline='') as file:\n",
    "\n",
    "    writer = csv.writer(file)\n",
    "\n",
    "    writer.writerow(['Name', 'Age'])\n",
    "    writer.writerow(['John', 25])\n",
    "    writer.writerow(['Alice', 30])"
   ]
  },
  {
   "cell_type": "code",
   "execution_count": null,
   "id": "f9d4c4bd",
   "metadata": {},
   "outputs": [],
   "source": []
  },
  {
   "cell_type": "markdown",
   "id": "41dce43a",
   "metadata": {},
   "source": [
    "3. What modes do File objects for reader and writer objects need to be opened in?"
   ]
  },
  {
   "cell_type": "markdown",
   "id": "1106374d",
   "metadata": {},
   "source": [
    "When working with reader and writer objects from the csv module, the file objects used need to be opened in the following modes:\n",
    "\n",
    "Reader Object:\n",
    "The file object used for a reader object should be opened in read mode ('r') or in text mode with read access ('rt')."
   ]
  },
  {
   "cell_type": "code",
   "execution_count": null,
   "id": "b3325b2c",
   "metadata": {},
   "outputs": [],
   "source": [
    "import csv\n",
    "\n",
    "with open('file.csv', 'r') as file:\n",
    "   \n",
    "    reader = csv.reader(file)\n",
    "    for row in reader:\n",
    "\n",
    "        print(row)"
   ]
  },
  {
   "cell_type": "markdown",
   "id": "fde8c0e5",
   "metadata": {},
   "source": [
    "Writer Object:\n",
    "The file object used for a writer object should be opened in write mode ('w') or in text mode with write access ('wt').\n",
    "It's important to note that when opening the file in write mode, it will truncate the existing contents of the file. If you want to append data to an existing file, you can open it in append mode ('a') or in text mode with append access ('at')."
   ]
  },
  {
   "cell_type": "code",
   "execution_count": null,
   "id": "f9ffa828",
   "metadata": {},
   "outputs": [],
   "source": [
    "import csv\n",
    "\n",
    "\n",
    "with open('output.csv', 'w', newline='') as file:\n",
    "    \n",
    "    writer = csv.writer(file)\n",
    "   \n",
    "    writer.writerow(['Name', 'Age'])\n",
    "    writer.writerow(['John', 25])\n",
    "    writer.writerow(['Alice', 30])\n"
   ]
  },
  {
   "cell_type": "code",
   "execution_count": null,
   "id": "49f1229a",
   "metadata": {},
   "outputs": [],
   "source": []
  },
  {
   "cell_type": "markdown",
   "id": "02a7e375",
   "metadata": {},
   "source": [
    "4. What method takes a list argument and writes it to a CSV file?"
   ]
  },
  {
   "cell_type": "markdown",
   "id": "25829d37",
   "metadata": {},
   "source": [
    "The writerow() method of a csv.writer object is used to write a list of values as a row to a CSV file. To write multiple rows, you can call writerow() method multiple times.\n",
    "\n",
    "Here's an example that demonstrates how to write a list of values as a row to a CSV file using writerow():"
   ]
  },
  {
   "cell_type": "code",
   "execution_count": null,
   "id": "19487052",
   "metadata": {},
   "outputs": [],
   "source": [
    "import csv\n",
    "\n",
    "data = ['John', 'Doe', 30]\n",
    "with open('output.csv', 'w', newline='') as file:\n",
    "    \n",
    "    writer = csv.writer(file)\n",
    "    writer.writerow(data)\n"
   ]
  },
  {
   "cell_type": "code",
   "execution_count": null,
   "id": "265fdb92",
   "metadata": {},
   "outputs": [],
   "source": []
  },
  {
   "cell_type": "markdown",
   "id": "e47eb26a",
   "metadata": {},
   "source": [
    "5. What do the keyword arguments delimiter and line terminator do?"
   ]
  },
  {
   "cell_type": "markdown",
   "id": "c8455f7e",
   "metadata": {},
   "source": [
    "The keyword argument delimiter is used to specify the character that separates individual fields (values) in a CSV file when writing or reading. By default, the delimiter is a comma (,). You can change it to any character you want, such as a tab (\\t), a semicolon (;), or a pipe (|), depending on your specific needs."
   ]
  },
  {
   "cell_type": "code",
   "execution_count": null,
   "id": "cf1fe7b2",
   "metadata": {},
   "outputs": [],
   "source": [
    "import csv\n",
    "\n",
    "data = [['John', 'Doe', 30], ['Jane', 'Smith', 25]]\n",
    "\n",
    "with open('output.csv', 'w', newline='') as file:\n",
    "    writer = csv.writer(file, delimiter=';')\n",
    "    writer.writerows(data)\n"
   ]
  },
  {
   "cell_type": "code",
   "execution_count": null,
   "id": "a9a20c6e",
   "metadata": {},
   "outputs": [],
   "source": []
  },
  {
   "cell_type": "markdown",
   "id": "0c6cab55",
   "metadata": {},
   "source": [
    "6. What function takes a string of JSON data and returns a Python data structure?"
   ]
  },
  {
   "cell_type": "markdown",
   "id": "ef9265c4",
   "metadata": {},
   "source": [
    "The function that takes a string of JSON data and returns a Python data structure is json.loads(). The json.loads() function is part of the json module in Python's standard library."
   ]
  },
  {
   "cell_type": "code",
   "execution_count": null,
   "id": "36346ae8",
   "metadata": {},
   "outputs": [],
   "source": [
    "import json\n",
    "json_data = '{\"name\": \"John\", \"age\": 30, \"city\": \"New York\"}'\n",
    "python_data = json.loads(json_data)\n",
    "print(python_data)"
   ]
  },
  {
   "cell_type": "code",
   "execution_count": null,
   "id": "7e3e654a",
   "metadata": {},
   "outputs": [],
   "source": []
  },
  {
   "cell_type": "markdown",
   "id": "2502ef8d",
   "metadata": {},
   "source": [
    "7. What function takes a Python data structure and returns a string of JSON data?"
   ]
  },
  {
   "cell_type": "markdown",
   "id": "cc37c022",
   "metadata": {},
   "source": [
    "The function that takes a Python data structure and returns a string of JSON data is json.dumps(). The json.dumps() function is part of the json module in Python's standard library."
   ]
  },
  {
   "cell_type": "code",
   "execution_count": null,
   "id": "bc66f21e",
   "metadata": {},
   "outputs": [],
   "source": [
    "import json\n",
    "python_data = {'name': 'John', 'age': 30, 'city': 'New York'}\n",
    "json_data = json.dumps(python_data)\n",
    "print(json_data)"
   ]
  }
 ],
 "metadata": {
  "kernelspec": {
   "display_name": "Python 3 (ipykernel)",
   "language": "python",
   "name": "python3"
  },
  "language_info": {
   "codemirror_mode": {
    "name": "ipython",
    "version": 3
   },
   "file_extension": ".py",
   "mimetype": "text/x-python",
   "name": "python",
   "nbconvert_exporter": "python",
   "pygments_lexer": "ipython3",
   "version": "3.10.9"
  }
 },
 "nbformat": 4,
 "nbformat_minor": 5
}
