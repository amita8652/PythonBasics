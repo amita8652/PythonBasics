{
 "cells": [
  {
   "cell_type": "markdown",
   "id": "b24afe6d",
   "metadata": {},
   "source": [
    "1.\tWrite a Python program to find words which are greater than given length k?"
   ]
  },
  {
   "cell_type": "code",
   "execution_count": 2,
   "id": "ee2dce68",
   "metadata": {},
   "outputs": [
    {
     "name": "stdout",
     "output_type": "stream",
     "text": [
      "Words greater than length 4 : ['quick', 'brown', 'jumps']\n"
     ]
    }
   ],
   "source": [
    "def find_words_greater_than(sentence, k):\n",
    "    words = sentence.split()\n",
    "    result = []\n",
    "    for word in words:\n",
    "        if len(word) > k:\n",
    "            result.append(word)\n",
    "    return result\n",
    "\n",
    "sentence = \"The quick brown fox jumps over the lazy dog\"\n",
    "\n",
    "\n",
    "k = 4\n",
    "\n",
    "result = find_words_greater_than(sentence, k)\n",
    "\n",
    "print(\"Words greater than length\", k, \":\", result)\n"
   ]
  },
  {
   "cell_type": "code",
   "execution_count": null,
   "id": "bbad0194",
   "metadata": {},
   "outputs": [],
   "source": []
  },
  {
   "cell_type": "markdown",
   "id": "bd6e4810",
   "metadata": {},
   "source": [
    "2.\tWrite a Python program for removing i-th character from a string?"
   ]
  },
  {
   "cell_type": "code",
   "execution_count": 4,
   "id": "4be783b1",
   "metadata": {},
   "outputs": [
    {
     "name": "stdout",
     "output_type": "stream",
     "text": [
      "String after removing character at index 7 : Hello, orld!\n"
     ]
    }
   ],
   "source": [
    "def remove_character(string, i):\n",
    "    if i < 0 or i >= len(string):\n",
    "        return string\n",
    "    else:\n",
    "        return string[:i] + string[i+1:]\n",
    "\n",
    "my_string = \"Hello, World!\"\n",
    "\n",
    "i = 7\n",
    "\n",
    "result = remove_character(my_string, i)\n",
    "\n",
    "print(\"String after removing character at index\", i, \":\", result)\n"
   ]
  },
  {
   "cell_type": "code",
   "execution_count": null,
   "id": "ea384343",
   "metadata": {},
   "outputs": [],
   "source": []
  },
  {
   "cell_type": "markdown",
   "id": "d6866eb2",
   "metadata": {},
   "source": [
    "3.\tWrite a Python program to split and join a string?"
   ]
  },
  {
   "cell_type": "code",
   "execution_count": 6,
   "id": "bcdf0106",
   "metadata": {},
   "outputs": [
    {
     "name": "stdout",
     "output_type": "stream",
     "text": [
      "String after splitting and joining: Hello,-World!-This-is-a-sample-string.\n"
     ]
    }
   ],
   "source": [
    "def split_and_join(string):\n",
    "  \n",
    "    words = string.split()\n",
    "\n",
    "    joined_string = \"-\".join(words)\n",
    "\n",
    "    return joined_string\n",
    "\n",
    "my_string = \"Hello, World! This is a sample string.\"\n",
    "\n",
    "result = split_and_join(my_string)\n",
    "\n",
    "print(\"String after splitting and joining:\", result)\n"
   ]
  },
  {
   "cell_type": "code",
   "execution_count": null,
   "id": "86cf69fe",
   "metadata": {},
   "outputs": [],
   "source": []
  },
  {
   "cell_type": "markdown",
   "id": "ef92faba",
   "metadata": {},
   "source": [
    "4.\tWrite a Python to check if a given string is binary string or not?"
   ]
  },
  {
   "cell_type": "code",
   "execution_count": 7,
   "id": "5d5180d6",
   "metadata": {},
   "outputs": [
    {
     "name": "stdout",
     "output_type": "stream",
     "text": [
      "101010 is a binary string: True\n",
      "12345 is a binary string: False\n",
      "101010101020 is a binary string: False\n"
     ]
    }
   ],
   "source": [
    "def is_binary_string(string):\n",
    "  \n",
    "    binary_set = {'0', '1'}\n",
    "\n",
    "    for char in string:\n",
    "        if char not in binary_set:\n",
    "            return False\n",
    "\n",
    "    return True\n",
    "\n",
    "string1 = \"101010\"\n",
    "string2 = \"12345\"\n",
    "string3 = \"101010101020\"\n",
    "\n",
    "result1 = is_binary_string(string1)\n",
    "result2 = is_binary_string(string2)\n",
    "result3 = is_binary_string(string3)\n",
    "\n",
    "print(string1, \"is a binary string:\", result1)\n",
    "print(string2, \"is a binary string:\", result2)\n",
    "print(string3, \"is a binary string:\", result3)\n"
   ]
  },
  {
   "cell_type": "code",
   "execution_count": null,
   "id": "1ba9ff52",
   "metadata": {},
   "outputs": [],
   "source": []
  },
  {
   "cell_type": "markdown",
   "id": "c07fb521",
   "metadata": {},
   "source": [
    "5.\tWrite a Python program to find uncommon words from two Strings?"
   ]
  },
  {
   "cell_type": "code",
   "execution_count": 10,
   "id": "dc8d37fe",
   "metadata": {},
   "outputs": [
    {
     "name": "stdout",
     "output_type": "stream",
     "text": [
      "Uncommon words: {'you.', 'are', 'Hello,', 'you?', 'how', 'I', 'fine,', 'thank', 'am'}\n"
     ]
    }
   ],
   "source": [
    "def find_uncommon_words(string1, string2):\n",
    "  \n",
    "    words1 = string1.split()\n",
    "    words2 = string2.split()\n",
    "\n",
    "    set1 = set(words1)\n",
    "    set2 = set(words2)\n",
    "\n",
    "    uncommon_words = set1.symmetric_difference(set2)\n",
    "\n",
    "    return uncommon_words\n",
    "\n",
    "string1 = \"Hello, how are you?\"\n",
    "string2 = \"I am fine, thank you.\"\n",
    "\n",
    "result = find_uncommon_words(string1, string2)\n",
    "\n",
    "print(\"Uncommon words:\", result)\n"
   ]
  },
  {
   "cell_type": "code",
   "execution_count": null,
   "id": "68ccfacd",
   "metadata": {},
   "outputs": [],
   "source": []
  },
  {
   "cell_type": "markdown",
   "id": "c0423743",
   "metadata": {},
   "source": [
    "6.\tWrite a Python to find all duplicate characters in string?"
   ]
  },
  {
   "cell_type": "code",
   "execution_count": 11,
   "id": "42727ce7",
   "metadata": {},
   "outputs": [
    {
     "name": "stdout",
     "output_type": "stream",
     "text": [
      "Duplicate characters: {'l', 'o'}\n"
     ]
    }
   ],
   "source": [
    "def find_duplicate_characters(string):\n",
    "\n",
    "    duplicates = set()\n",
    "\n",
    "    seen = set()\n",
    "\n",
    "    for char in string:\n",
    " \n",
    "        if char in seen:\n",
    "     \n",
    "            duplicates.add(char)\n",
    "        else:\n",
    "\n",
    "            seen.add(char)\n",
    "\n",
    "    return duplicates\n",
    "\n",
    "my_string = \"Hello, World!\"\n",
    "\n",
    "result = find_duplicate_characters(my_string)\n",
    "\n",
    "print(\"Duplicate characters:\", result)\n"
   ]
  },
  {
   "cell_type": "code",
   "execution_count": null,
   "id": "9f0926cc",
   "metadata": {},
   "outputs": [],
   "source": []
  },
  {
   "cell_type": "markdown",
   "id": "3e5ef572",
   "metadata": {},
   "source": [
    "7.\tWrite a Python Program to check if a string contains any special character?"
   ]
  },
  {
   "cell_type": "code",
   "execution_count": 13,
   "id": "9c2987b2",
   "metadata": {},
   "outputs": [
    {
     "name": "stdout",
     "output_type": "stream",
     "text": [
      "String 1 contains special characters: True\n",
      "String 2 contains special characters: True\n"
     ]
    }
   ],
   "source": [
    "import re\n",
    "\n",
    "def contains_special_character(string):\n",
    "\n",
    "    pattern = r'[!@#$%^&*(),.?\":{}|<>]'\n",
    "\n",
    "    if re.search(pattern, string):\n",
    "        return True\n",
    "    else:\n",
    "        return False\n",
    "\n",
    "string1 = \"Hello, World!\"\n",
    "string2 = \"Hello@World\"\n",
    "\n",
    "result1 = contains_special_character(string1)\n",
    "result2 = contains_special_character(string2)\n",
    "\n",
    "print(\"String 1 contains special characters:\", result1)\n",
    "print(\"String 2 contains special characters:\", result2)\n"
   ]
  },
  {
   "cell_type": "code",
   "execution_count": null,
   "id": "ec80cd75",
   "metadata": {},
   "outputs": [],
   "source": []
  }
 ],
 "metadata": {
  "kernelspec": {
   "display_name": "Python 3 (ipykernel)",
   "language": "python",
   "name": "python3"
  },
  "language_info": {
   "codemirror_mode": {
    "name": "ipython",
    "version": 3
   },
   "file_extension": ".py",
   "mimetype": "text/x-python",
   "name": "python",
   "nbconvert_exporter": "python",
   "pygments_lexer": "ipython3",
   "version": "3.10.9"
  }
 },
 "nbformat": 4,
 "nbformat_minor": 5
}
