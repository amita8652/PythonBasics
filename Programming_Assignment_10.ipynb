{
 "cells": [
  {
   "cell_type": "markdown",
   "id": "c2653aa2",
   "metadata": {},
   "source": [
    "1.\tWrite a Python program to find sum of elements in list?"
   ]
  },
  {
   "cell_type": "code",
   "execution_count": 1,
   "id": "69e11d60",
   "metadata": {},
   "outputs": [
    {
     "name": "stdout",
     "output_type": "stream",
     "text": [
      "Sum of elements: 15\n"
     ]
    }
   ],
   "source": [
    "def sum_of_elements(lst):\n",
    "    total = 0\n",
    "    for num in lst:\n",
    "        total += num\n",
    "    return total\n",
    "\n",
    "numbers = [1, 2, 3, 4, 5]\n",
    "\n",
    "result = sum_of_elements(numbers)\n",
    "\n",
    "print(\"Sum of elements:\", result)\n"
   ]
  },
  {
   "cell_type": "code",
   "execution_count": null,
   "id": "2b37b1da",
   "metadata": {},
   "outputs": [],
   "source": []
  },
  {
   "cell_type": "markdown",
   "id": "f2d44df2",
   "metadata": {},
   "source": [
    "2.\tWrite a Python program to  Multiply all numbers in the list?"
   ]
  },
  {
   "cell_type": "code",
   "execution_count": 2,
   "id": "cd8a465e",
   "metadata": {},
   "outputs": [
    {
     "name": "stdout",
     "output_type": "stream",
     "text": [
      "Multiplication result: 120\n"
     ]
    }
   ],
   "source": [
    "def multiply_numbers(lst):\n",
    "    result = 1\n",
    "    for num in lst:\n",
    "        result *= num\n",
    "    return result\n",
    "\n",
    "numbers = [1, 2, 3, 4, 5]\n",
    "result = multiply_numbers(numbers)\n",
    "print(\"Multiplication result:\", result)\n"
   ]
  },
  {
   "cell_type": "code",
   "execution_count": null,
   "id": "dbed3d4e",
   "metadata": {},
   "outputs": [],
   "source": []
  },
  {
   "cell_type": "markdown",
   "id": "3188d150",
   "metadata": {},
   "source": [
    "3.\tWrite a Python program to find smallest number in a list?"
   ]
  },
  {
   "cell_type": "code",
   "execution_count": 3,
   "id": "21860bc7",
   "metadata": {},
   "outputs": [
    {
     "name": "stdout",
     "output_type": "stream",
     "text": [
      "Smallest number: 1\n"
     ]
    }
   ],
   "source": [
    "def find_smallest_number(lst):\n",
    "    if len(lst) == 0:\n",
    "        return None\n",
    "    else:\n",
    "        smallest = lst[0]\n",
    "        for num in lst:\n",
    "            if num < smallest:\n",
    "                smallest = num\n",
    "        return smallest\n",
    "\n",
    "numbers = [5, 2, 9, 1, 7]\n",
    "result = find_smallest_number(numbers)\n",
    "print(\"Smallest number:\", result)\n"
   ]
  },
  {
   "cell_type": "code",
   "execution_count": null,
   "id": "fa3ab419",
   "metadata": {},
   "outputs": [],
   "source": []
  },
  {
   "cell_type": "markdown",
   "id": "f68588f5",
   "metadata": {},
   "source": [
    "4.\tWrite a Python program to find largest number in a list?"
   ]
  },
  {
   "cell_type": "code",
   "execution_count": 4,
   "id": "9faa6453",
   "metadata": {},
   "outputs": [
    {
     "name": "stdout",
     "output_type": "stream",
     "text": [
      "Largest number: 9\n"
     ]
    }
   ],
   "source": [
    "def find_largest_number(lst):\n",
    "    if len(lst) == 0:\n",
    "        return None\n",
    "    else:\n",
    "        largest = lst[0]\n",
    "        for num in lst:\n",
    "            if num > largest:\n",
    "                largest = num\n",
    "        return largest\n",
    "\n",
    "numbers = [5, 2, 9, 1, 7]\n",
    "\n",
    "result = find_largest_number(numbers)\n",
    "\n",
    "print(\"Largest number:\", result)\n"
   ]
  },
  {
   "cell_type": "code",
   "execution_count": null,
   "id": "9f9f0060",
   "metadata": {},
   "outputs": [],
   "source": []
  },
  {
   "cell_type": "markdown",
   "id": "2d8abc63",
   "metadata": {},
   "source": [
    "5.\tWrite a Python program to find second largest number in a list?"
   ]
  },
  {
   "cell_type": "code",
   "execution_count": 5,
   "id": "914ebe73",
   "metadata": {},
   "outputs": [
    {
     "name": "stdout",
     "output_type": "stream",
     "text": [
      "Second largest number: 8\n"
     ]
    }
   ],
   "source": [
    "def find_second_largest(lst):\n",
    "    if len(lst) < 2:\n",
    "        return None\n",
    "    else:\n",
    "        largest = max(lst[0], lst[1])\n",
    "        second_largest = min(lst[0], lst[1])\n",
    "        \n",
    "        for num in lst[2:]:\n",
    "            if num > largest:\n",
    "                second_largest = largest\n",
    "                largest = num\n",
    "            elif num > second_largest and num < largest:\n",
    "                second_largest = num\n",
    "        \n",
    "        return second_largest\n",
    "\n",
    "numbers = [5, 2, 9, 1, 7, 8, 3]\n",
    "result = find_second_largest(numbers)\n",
    "if result is None:\n",
    "    print(\"List has less than 2 numbers.\")\n",
    "else:\n",
    "    print(\"Second largest number:\", result)\n"
   ]
  },
  {
   "cell_type": "code",
   "execution_count": null,
   "id": "4d6b02ff",
   "metadata": {},
   "outputs": [],
   "source": []
  },
  {
   "cell_type": "markdown",
   "id": "925c55fb",
   "metadata": {},
   "source": [
    "6.\tWrite a Python program to find N largest elements from a list?"
   ]
  },
  {
   "cell_type": "code",
   "execution_count": 6,
   "id": "06689ca5",
   "metadata": {},
   "outputs": [
    {
     "name": "stdout",
     "output_type": "stream",
     "text": [
      "3 largest elements: [9, 8, 7]\n"
     ]
    }
   ],
   "source": [
    "def find_n_largest_elements(lst, n):\n",
    "    if len(lst) < n:\n",
    "        return None\n",
    "    else:\n",
    "        largest_elements = sorted(lst, reverse=True)[:n]\n",
    "        return largest_elements\n",
    "\n",
    "numbers = [5, 2, 9, 1, 7, 8, 3]\n",
    "\n",
    "n = 3\n",
    "\n",
    "result = find_n_largest_elements(numbers, n)\n",
    "\n",
    "if result is None:\n",
    "    print(\"List has less than\", n, \"numbers.\")\n",
    "else:\n",
    "    print(n, \"largest elements:\", result)\n"
   ]
  },
  {
   "cell_type": "code",
   "execution_count": null,
   "id": "4e91358e",
   "metadata": {},
   "outputs": [],
   "source": []
  },
  {
   "cell_type": "markdown",
   "id": "93cc2c7b",
   "metadata": {},
   "source": [
    "7.\tWrite a Python program to print even numbers in a list?"
   ]
  },
  {
   "cell_type": "code",
   "execution_count": 7,
   "id": "cd638905",
   "metadata": {},
   "outputs": [
    {
     "name": "stdout",
     "output_type": "stream",
     "text": [
      "Even numbers: [2, 4, 6, 8, 10]\n"
     ]
    }
   ],
   "source": [
    "def print_even_numbers(lst):\n",
    "    even_numbers = []\n",
    "    for num in lst:\n",
    "        if num % 2 == 0:\n",
    "            even_numbers.append(num)\n",
    "    return even_numbers\n",
    "\n",
    "numbers = [1, 2, 3, 4, 5, 6, 7, 8, 9, 10]\n",
    "\n",
    "result = print_even_numbers(numbers)\n",
    "print(\"Even numbers:\", result)\n"
   ]
  },
  {
   "cell_type": "code",
   "execution_count": null,
   "id": "7d1e3524",
   "metadata": {},
   "outputs": [],
   "source": []
  },
  {
   "cell_type": "markdown",
   "id": "a6f83765",
   "metadata": {},
   "source": [
    "8.\tWrite a Python program to print odd numbers in a List?"
   ]
  },
  {
   "cell_type": "code",
   "execution_count": 8,
   "id": "10d5b9fa",
   "metadata": {},
   "outputs": [
    {
     "name": "stdout",
     "output_type": "stream",
     "text": [
      "Odd numbers: [1, 3, 5, 7, 9]\n"
     ]
    }
   ],
   "source": [
    "def print_odd_numbers(lst):\n",
    "    odd_numbers = []\n",
    "    for num in lst:\n",
    "        if num % 2 != 0:\n",
    "            odd_numbers.append(num)\n",
    "    return odd_numbers\n",
    "\n",
    "numbers = [1, 2, 3, 4, 5, 6, 7, 8, 9, 10]\n",
    "\n",
    "result = print_odd_numbers(numbers)\n",
    "\n",
    "print(\"Odd numbers:\", result)\n"
   ]
  },
  {
   "cell_type": "code",
   "execution_count": null,
   "id": "c4c67972",
   "metadata": {},
   "outputs": [],
   "source": []
  },
  {
   "cell_type": "markdown",
   "id": "8ad30a57",
   "metadata": {},
   "source": [
    "9.\tWrite a Python program to Remove empty List from List?"
   ]
  },
  {
   "cell_type": "code",
   "execution_count": 9,
   "id": "bb927c93",
   "metadata": {},
   "outputs": [
    {
     "name": "stdout",
     "output_type": "stream",
     "text": [
      "List after removing empty lists: [1, 2, 3, 4]\n"
     ]
    }
   ],
   "source": [
    "def remove_empty_lists(lst):\n",
    "    result = [x for x in lst if x]\n",
    "    return result\n",
    "\n",
    "my_list = [1, [], 2, [], 3, [], [], 4]\n",
    "\n",
    "result = remove_empty_lists(my_list)\n",
    "\n",
    "print(\"List after removing empty lists:\", result)\n"
   ]
  },
  {
   "cell_type": "code",
   "execution_count": null,
   "id": "fc746354",
   "metadata": {},
   "outputs": [],
   "source": []
  },
  {
   "cell_type": "markdown",
   "id": "dbe3c9f6",
   "metadata": {},
   "source": [
    "10.\tWrite a Python program to Cloning or Copying a list?"
   ]
  },
  {
   "cell_type": "code",
   "execution_count": 10,
   "id": "e89ddcb3",
   "metadata": {},
   "outputs": [
    {
     "name": "stdout",
     "output_type": "stream",
     "text": [
      "Cloned list: [1, 2, 3, 4, 5]\n"
     ]
    }
   ],
   "source": [
    "def clone_list(lst):\n",
    "    cloned_list = lst.copy()\n",
    "    return cloned_list\n",
    "\n",
    "original_list = [1, 2, 3, 4, 5]\n",
    "\n",
    "cloned_list = clone_list(original_list)\n",
    "\n",
    "print(\"Cloned list:\", cloned_list)\n"
   ]
  },
  {
   "cell_type": "code",
   "execution_count": null,
   "id": "f12f5564",
   "metadata": {},
   "outputs": [],
   "source": []
  },
  {
   "cell_type": "markdown",
   "id": "4b73ffb5",
   "metadata": {},
   "source": [
    "11.\tWrite a Python program to Count occurrences of an element in a list?"
   ]
  },
  {
   "cell_type": "code",
   "execution_count": 11,
   "id": "ca11398a",
   "metadata": {},
   "outputs": [
    {
     "name": "stdout",
     "output_type": "stream",
     "text": [
      "Occurrences of 1 in the list: 4\n"
     ]
    }
   ],
   "source": [
    "def count_occurrences(lst, element):\n",
    "    count = 0\n",
    "    for item in lst:\n",
    "        if item == element:\n",
    "            count += 1\n",
    "    return count\n",
    "\n",
    "my_list = [1, 2, 3, 4, 1, 1, 5, 1]\n",
    "\n",
    "element = 1\n",
    "\n",
    "occurrences = count_occurrences(my_list, element)\n",
    "\n",
    "print(\"Occurrences of\", element, \"in the list:\", occurrences)\n"
   ]
  }
 ],
 "metadata": {
  "kernelspec": {
   "display_name": "Python 3 (ipykernel)",
   "language": "python",
   "name": "python3"
  },
  "language_info": {
   "codemirror_mode": {
    "name": "ipython",
    "version": 3
   },
   "file_extension": ".py",
   "mimetype": "text/x-python",
   "name": "python",
   "nbconvert_exporter": "python",
   "pygments_lexer": "ipython3",
   "version": "3.10.9"
  }
 },
 "nbformat": 4,
 "nbformat_minor": 5
}
