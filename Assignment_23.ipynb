{
 "cells": [
  {
   "cell_type": "markdown",
   "id": "e3247bc2",
   "metadata": {},
   "source": [
    "\n",
    "1. What is the result of the code, and why?\n",
    ">>> def func(a, b=6, c=8):\n",
    "print(a, b, c)\n",
    ">>> func(1, 2)\n"
   ]
  },
  {
   "cell_type": "code",
   "execution_count": null,
   "id": "14fd474e",
   "metadata": {},
   "outputs": [],
   "source": [
    "#Ans - 1 2 8 - because a got value 1 and b got value 2 but since there was no third arguement c took\n",
    "# default value"
   ]
  },
  {
   "cell_type": "code",
   "execution_count": null,
   "id": "ffcefa4f",
   "metadata": {},
   "outputs": [],
   "source": []
  },
  {
   "cell_type": "markdown",
   "id": "25fa934e",
   "metadata": {},
   "source": [
    "2. What is the result of this code, and why?\n",
    ">>> def func(a, b, c=5):\n",
    "print(a, b, c)\n",
    ">>> func(1, c=3, b=2)\n"
   ]
  },
  {
   "cell_type": "code",
   "execution_count": null,
   "id": "0c39f2e6",
   "metadata": {},
   "outputs": [],
   "source": [
    "# Ans - 1 2 3 , since we used keyword arguements and one default one so a got value 1 and b got value\n",
    "# 2 and c got value 3"
   ]
  },
  {
   "cell_type": "code",
   "execution_count": null,
   "id": "55be11ba",
   "metadata": {},
   "outputs": [],
   "source": []
  },
  {
   "cell_type": "markdown",
   "id": "465e032f",
   "metadata": {},
   "source": [
    "3. How about this code: what is its result, and why?\n",
    ">>> def func(a, *pargs):\n",
    "print(a, pargs)\n",
    ">>> func(1, 2, 3)"
   ]
  },
  {
   "cell_type": "code",
   "execution_count": null,
   "id": "ade36f38",
   "metadata": {},
   "outputs": [],
   "source": [
    "# here a is a simple variable which holds up a single value but pargs is a tuple which can hold multiple\n",
    "# values so a = 1 and pargs = (2,3)"
   ]
  },
  {
   "cell_type": "code",
   "execution_count": null,
   "id": "cdc49ae3",
   "metadata": {},
   "outputs": [],
   "source": []
  },
  {
   "cell_type": "markdown",
   "id": "d264c214",
   "metadata": {},
   "source": [
    "4. What does this code print, and why?\n",
    ">>> def func(a, **kargs):\n",
    "print(a, kargs)\n",
    ">>> func(a=1, c=3, b=2)\n"
   ]
  },
  {
   "cell_type": "code",
   "execution_count": null,
   "id": "abd010b3",
   "metadata": {},
   "outputs": [],
   "source": [
    "# Ans - here a is a simple variable which holds up a single value but kargs is a dictionary which can\n",
    "#hold multiple  key value pairs  - a = 1 , b = {'c':3,'b':2}"
   ]
  },
  {
   "cell_type": "code",
   "execution_count": null,
   "id": "31c3a0bf",
   "metadata": {},
   "outputs": [],
   "source": []
  },
  {
   "cell_type": "markdown",
   "id": "a34e506e",
   "metadata": {},
   "source": [
    "5. What gets printed by this, and explain?\n",
    ">>> def func(a, b, c=8, d=5): print(a, b, c, d)\n",
    ">>> func(1, *(5, 6))\n"
   ]
  },
  {
   "cell_type": "code",
   "execution_count": null,
   "id": "483b90dd",
   "metadata": {},
   "outputs": [],
   "source": [
    "1 5 6 5"
   ]
  },
  {
   "cell_type": "code",
   "execution_count": null,
   "id": "af24c7bd",
   "metadata": {},
   "outputs": [],
   "source": [
    "# Ans a got value 1 and *(5,6) got tuple unpacked to b and c and d got defalt value 5"
   ]
  },
  {
   "cell_type": "code",
   "execution_count": null,
   "id": "1c23de9b",
   "metadata": {},
   "outputs": [],
   "source": []
  },
  {
   "cell_type": "markdown",
   "id": "4920856e",
   "metadata": {},
   "source": [
    "6. what is the result of this, and explain?\n",
    ">>> def func(a, b, c): a = 2; b[0] = 'x'; c['a'] = 'y'\n",
    ">>> l=1; m=[1]; n={'a':0}\n",
    ">>> func(l, m, n)\n"
   ]
  },
  {
   "cell_type": "code",
   "execution_count": null,
   "id": "9e4ced51",
   "metadata": {},
   "outputs": [],
   "source": [
    "# this will not give any output because inside the funcion only changes are being made "
   ]
  }
 ],
 "metadata": {
  "kernelspec": {
   "display_name": "Python 3 (ipykernel)",
   "language": "python",
   "name": "python3"
  },
  "language_info": {
   "codemirror_mode": {
    "name": "ipython",
    "version": 3
   },
   "file_extension": ".py",
   "mimetype": "text/x-python",
   "name": "python",
   "nbconvert_exporter": "python",
   "pygments_lexer": "ipython3",
   "version": "3.10.9"
  }
 },
 "nbformat": 4,
 "nbformat_minor": 5
}
