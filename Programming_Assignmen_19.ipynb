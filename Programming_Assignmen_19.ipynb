{
 "cells": [
  {
   "cell_type": "markdown",
   "id": "8d70fdac",
   "metadata": {},
   "source": [
    "Question1\n",
    "Create a function that takes a string and returns a string in which each character is repeated once.\n"
   ]
  },
  {
   "cell_type": "code",
   "execution_count": 2,
   "id": "12ee8397",
   "metadata": {},
   "outputs": [
    {
     "name": "stdout",
     "output_type": "stream",
     "text": [
      "HHeelllloo,,  WWoorrlldd!!\n"
     ]
    }
   ],
   "source": [
    "def repeat_characters(string):\n",
    "    repeated_string = ''\n",
    "    for char in string:\n",
    "        repeated_string += char * 2\n",
    "    return repeated_string\n",
    "input_string = 'Hello, World!'\n",
    "result = repeat_characters(input_string)\n",
    "print(result)\n"
   ]
  },
  {
   "cell_type": "code",
   "execution_count": null,
   "id": "4238a8b9",
   "metadata": {},
   "outputs": [],
   "source": []
  },
  {
   "cell_type": "markdown",
   "id": "eca5888d",
   "metadata": {},
   "source": [
    "Question2\n",
    "Create a function that reverses a boolean value and returns the string \"boolean expected\" if another variable type is given.\n"
   ]
  },
  {
   "cell_type": "code",
   "execution_count": 4,
   "id": "5a68c51f",
   "metadata": {},
   "outputs": [
    {
     "name": "stdout",
     "output_type": "stream",
     "text": [
      "False\n",
      "True\n",
      "boolean expected\n",
      "boolean expected\n"
     ]
    }
   ],
   "source": [
    "def reverse_boolean(value):\n",
    "    if type(value) != bool:\n",
    "        return \"boolean expected\"\n",
    "    else:\n",
    "        return not value\n",
    "print(reverse_boolean(True))\n",
    "print(reverse_boolean(False))\n",
    "print(reverse_boolean(0))\n",
    "print(reverse_boolean(\"True\"))\n"
   ]
  },
  {
   "cell_type": "code",
   "execution_count": null,
   "id": "2ee8de1a",
   "metadata": {},
   "outputs": [],
   "source": []
  },
  {
   "cell_type": "markdown",
   "id": "be774b3b",
   "metadata": {},
   "source": [
    "Question3\n",
    "Create a function that returns the\n",
    "thickness (in meters) of a piece of paper after folding it n number of times. The paper starts off with a thickness of 0.5mm.\n"
   ]
  },
  {
   "cell_type": "code",
   "execution_count": 9,
   "id": "c48f339d",
   "metadata": {},
   "outputs": [
    {
     "name": "stdout",
     "output_type": "stream",
     "text": [
      "0.0005\n",
      "0.001\n",
      "0.002\n",
      "0.016\n"
     ]
    }
   ],
   "source": [
    "def calculate_paper_thickness(n):\n",
    "    initial_thickness_mm = 0.5\n",
    "    initial_thickness_m = initial_thickness_mm / 1000  # convert to meters\n",
    "    thickness = initial_thickness_m * (2 ** n)\n",
    "    return thickness\n",
    "print(calculate_paper_thickness(0))  \n",
    "print(calculate_paper_thickness(1)) \n",
    "print(calculate_paper_thickness(2))  \n",
    "print(calculate_paper_thickness(5))  \n"
   ]
  },
  {
   "cell_type": "code",
   "execution_count": null,
   "id": "ad4c0fe2",
   "metadata": {},
   "outputs": [],
   "source": []
  },
  {
   "cell_type": "markdown",
   "id": "0521a4e4",
   "metadata": {},
   "source": [
    "Question4\n",
    "Create a function that takes a single string as argument and returns an ordered list containing the indices of all capital letters in the string.\n"
   ]
  },
  {
   "cell_type": "code",
   "execution_count": null,
   "id": "ee9f3e32",
   "metadata": {},
   "outputs": [],
   "source": []
  },
  {
   "cell_type": "code",
   "execution_count": 11,
   "id": "672516c6",
   "metadata": {},
   "outputs": [
    {
     "name": "stdout",
     "output_type": "stream",
     "text": [
      "[0, 6]\n"
     ]
    }
   ],
   "source": [
    "def find_capital_indices(string):\n",
    "    capital_indices = [index for index, char in enumerate(string) if char.isupper()]\n",
    "    return capital_indices\n",
    "string = \"Hello World!\"\n",
    "indices = find_capital_indices(string)\n",
    "print(indices)\n"
   ]
  },
  {
   "cell_type": "code",
   "execution_count": null,
   "id": "1857c791",
   "metadata": {},
   "outputs": [],
   "source": []
  },
  {
   "cell_type": "markdown",
   "id": "a5a0e0d2",
   "metadata": {},
   "source": [
    "Question5\n",
    "Using list comprehensions, create a function that finds all even numbers from 1 to the given number.\n"
   ]
  },
  {
   "cell_type": "code",
   "execution_count": 13,
   "id": "1b9bf4a8",
   "metadata": {},
   "outputs": [
    {
     "name": "stdout",
     "output_type": "stream",
     "text": [
      "[2, 4, 6, 8, 10]\n"
     ]
    }
   ],
   "source": [
    "def find_even_numbers(n):\n",
    "    even_numbers = [num for num in range(1, n+1) if num % 2 == 0]\n",
    "    return even_numbers\n",
    "n = 10\n",
    "even_nums = find_even_numbers(n)\n",
    "print(even_nums)\n"
   ]
  }
 ],
 "metadata": {
  "kernelspec": {
   "display_name": "Python 3 (ipykernel)",
   "language": "python",
   "name": "python3"
  },
  "language_info": {
   "codemirror_mode": {
    "name": "ipython",
    "version": 3
   },
   "file_extension": ".py",
   "mimetype": "text/x-python",
   "name": "python",
   "nbconvert_exporter": "python",
   "pygments_lexer": "ipython3",
   "version": "3.10.9"
  }
 },
 "nbformat": 4,
 "nbformat_minor": 5
}
