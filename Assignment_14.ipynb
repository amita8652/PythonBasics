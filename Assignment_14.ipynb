{
 "cells": [
  {
   "cell_type": "markdown",
   "id": "88e72be8",
   "metadata": {},
   "source": [
    "1. What does RGBA stand for?"
   ]
  },
  {
   "cell_type": "markdown",
   "id": "5584d0d2",
   "metadata": {},
   "source": [
    "RGBA stands for Red Green Blue Alpha. It is a color model that represents colors using a combination of red, green, and blue channels, along with an alpha channel for transparency. Each channel is represented by an intensity value ranging from 0 to 255, where 0 represents no intensity and 255 represents maximum intensity. The alpha channel represents the transparency or opacity of the color, with 0 being fully transparent and 255 being fully opaque. The RGBA model is commonly used in computer graphics, image processing, and web design to specify and manipulate colors."
   ]
  },
  {
   "cell_type": "code",
   "execution_count": null,
   "id": "da366550",
   "metadata": {},
   "outputs": [],
   "source": []
  },
  {
   "cell_type": "markdown",
   "id": "27a9d553",
   "metadata": {},
   "source": [
    "2. From the Pillow module, how do you get the RGBA value of any images?"
   ]
  },
  {
   "cell_type": "markdown",
   "id": "c0b2219d",
   "metadata": {},
   "source": [
    "\n",
    "To get the RGBA (Red Green Blue Alpha) value of pixels in an image using the Pillow module in Python, you can use the getpixel() method"
   ]
  },
  {
   "cell_type": "code",
   "execution_count": null,
   "id": "11f80a0c",
   "metadata": {},
   "outputs": [],
   "source": [
    "from PIL import Image\n",
    "image = Image.open(\"example.jpg\")\n",
    "\n",
    "pixel_value = image.getpixel((x, y))\n",
    "\n",
    "red = pixel_value[0]\n",
    "green = pixel_value[1]\n",
    "blue = pixel_value[2]\n",
    "alpha = pixel_value[3]\n",
    "\n",
    "print(\"RGBA values:\", red, green, blue, alpha)\n"
   ]
  },
  {
   "cell_type": "code",
   "execution_count": null,
   "id": "92425865",
   "metadata": {},
   "outputs": [],
   "source": []
  },
  {
   "cell_type": "markdown",
   "id": "9988696e",
   "metadata": {},
   "source": [
    "3. What is a box tuple, and how does it work?"
   ]
  },
  {
   "cell_type": "markdown",
   "id": "341d7ea3",
   "metadata": {},
   "source": [
    " Pillow module, a box tuple represents a rectangular region within an image. It is used to define the coordinates and dimensions of a box or a region of interest. The box tuple is typically represented as a tuple of four values: (left, upper, right, lower).\n",
    "\n",
    "Here's how the box tuple works:\n",
    "\n",
    "left represents the x-coordinate of the left edge of the box.\n",
    "upper represents the y-coordinate of the upper edge of the box.\n",
    "right represents the x-coordinate of the right edge of the box.\n",
    "lower represents the y-coordinate of the lower edge of the box."
   ]
  },
  {
   "cell_type": "code",
   "execution_count": null,
   "id": "06a15cd0",
   "metadata": {},
   "outputs": [],
   "source": []
  },
  {
   "cell_type": "markdown",
   "id": "ce393c27",
   "metadata": {},
   "source": [
    "4. Use your image and load in notebook then, How can you find out the width and height of an Image object?"
   ]
  },
  {
   "cell_type": "markdown",
   "id": "e972f035",
   "metadata": {},
   "source": [
    "To find out the width and height of an Image object in Python using the Pillow module, you can use the size attribute of the Image object."
   ]
  },
  {
   "cell_type": "code",
   "execution_count": null,
   "id": "af99cc03",
   "metadata": {},
   "outputs": [],
   "source": [
    "from PIL import Image\n",
    "\n",
    "image = Image.open('path/to/image.jpg')\n",
    "\n",
    "width, height = image.size\n",
    "\n",
    "print(\"Width:\", width)\n",
    "print(\"Height:\", height)\n"
   ]
  },
  {
   "cell_type": "code",
   "execution_count": null,
   "id": "8ac5b588",
   "metadata": {},
   "outputs": [],
   "source": []
  },
  {
   "cell_type": "markdown",
   "id": "1f27b979",
   "metadata": {},
   "source": [
    "5. What method would you call to get Image object for a 100×100 image, excluding the lower-left quarter of it?"
   ]
  },
  {
   "cell_type": "markdown",
   "id": "8b61c17f",
   "metadata": {},
   "source": [
    "To get an Image object for a 100x100 image excluding the lower-left quarter, you can use the crop() method from the Pillow module."
   ]
  },
  {
   "cell_type": "code",
   "execution_count": null,
   "id": "faf802b0",
   "metadata": {},
   "outputs": [],
   "source": [
    "from PIL import Image\n",
    "image = Image.open('path/to/image.jpg')\n",
    "left = 0\n",
    "upper = 50\n",
    "right = 50\n",
    "lower = 100\n",
    "cropped_image = image.crop((left, upper, right, lower))\n",
    "cropped_image.show()\n"
   ]
  },
  {
   "cell_type": "code",
   "execution_count": null,
   "id": "6cb7fb28",
   "metadata": {},
   "outputs": [],
   "source": []
  },
  {
   "cell_type": "markdown",
   "id": "3b64de77",
   "metadata": {},
   "source": [
    "6. After making changes to an Image object, how could you save it as an image file?"
   ]
  },
  {
   "cell_type": "markdown",
   "id": "008ff74a",
   "metadata": {},
   "source": [
    "After making changes to an Image object using the Pillow module, you can save it as an image file using the save() method."
   ]
  },
  {
   "cell_type": "code",
   "execution_count": null,
   "id": "99d3af10",
   "metadata": {},
   "outputs": [],
   "source": [
    "from PIL import Image\n",
    "image = Image.open('path/to/image.jpg')\n",
    "image.save('path/to/output.jpg')\n"
   ]
  },
  {
   "cell_type": "code",
   "execution_count": null,
   "id": "411ae869",
   "metadata": {},
   "outputs": [],
   "source": []
  },
  {
   "cell_type": "markdown",
   "id": "083c84b3",
   "metadata": {},
   "source": [
    "7. What module contains Pillow’s shape-drawing code?"
   ]
  },
  {
   "cell_type": "markdown",
   "id": "9ebe2c1e",
   "metadata": {},
   "source": [
    "The ImageDraw module within the Pillow library contains the shape-drawing code"
   ]
  },
  {
   "cell_type": "code",
   "execution_count": null,
   "id": "43c27bae",
   "metadata": {},
   "outputs": [],
   "source": []
  },
  {
   "cell_type": "markdown",
   "id": "3bd57efc",
   "metadata": {},
   "source": [
    "8. Image objects do not have drawing methods. What kind of object does? How do you get this kind of object?"
   ]
  },
  {
   "cell_type": "markdown",
   "id": "19346513",
   "metadata": {},
   "source": [
    "\n",
    "The ImageDraw object from the Pillow library provides the drawing methods to draw shapes on an Image object. You can obtain an ImageDraw object by using the ImageDraw.Draw() method and passing the Image object as an argument."
   ]
  },
  {
   "cell_type": "code",
   "execution_count": null,
   "id": "2c2015f9",
   "metadata": {},
   "outputs": [],
   "source": [
    "from PIL import Image, ImageDraw\n",
    "image = Image.open('path/to/image.jpg')\n",
    "draw = ImageDraw.Draw(image)\n",
    "draw.line([(0, 0), (100, 100)], fill='red', width=2)\n",
    "draw.rectangle([(50, 50), (150, 150)], outline='blue')\n",
    "draw.text((200, 200), 'Hello', fill='green')\n",
    "image.save('path/to/output.jpg')"
   ]
  }
 ],
 "metadata": {
  "kernelspec": {
   "display_name": "Python 3 (ipykernel)",
   "language": "python",
   "name": "python3"
  },
  "language_info": {
   "codemirror_mode": {
    "name": "ipython",
    "version": 3
   },
   "file_extension": ".py",
   "mimetype": "text/x-python",
   "name": "python",
   "nbconvert_exporter": "python",
   "pygments_lexer": "ipython3",
   "version": "3.10.9"
  }
 },
 "nbformat": 4,
 "nbformat_minor": 5
}
