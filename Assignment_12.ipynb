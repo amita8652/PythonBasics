{
 "cells": [
  {
   "cell_type": "markdown",
   "id": "5de8a0e5",
   "metadata": {},
   "source": [
    "1. In what modes should the PdfFileReader() and PdfFileWriter() File objects will be opened?"
   ]
  },
  {
   "cell_type": "markdown",
   "id": "c0fedfbe",
   "metadata": {},
   "source": [
    "\n",
    "When working with PdfFileReader() and PdfFileWriter() objects from the PyPDF2 library in Python, the associated File objects should be opened in different modes.\n",
    "\n",
    "PdfFileReader(): The File object used with PdfFileReader() should be opened in the binary read mode ('rb'). This mode is required because PDF files are binary files, and reading them requires binary mode to ensure proper handling of the file's content."
   ]
  },
  {
   "cell_type": "code",
   "execution_count": null,
   "id": "186f4e04",
   "metadata": {},
   "outputs": [],
   "source": [
    "pdf_file = open('example.pdf', 'rb')\n",
    "pdf_reader = PdfFileReader(pdf_file)"
   ]
  },
  {
   "cell_type": "markdown",
   "id": "2def397e",
   "metadata": {},
   "source": [
    "PdfFileWriter(): The File object used with PdfFileWriter() should be opened in the binary write mode ('wb'). This mode is necessary because PdfFileWriter() is used to write data and modifications to a PDF file, and binary mode ensures proper handling of the file's content."
   ]
  },
  {
   "cell_type": "code",
   "execution_count": null,
   "id": "d423d631",
   "metadata": {},
   "outputs": [],
   "source": [
    "pdf_output_file = open('output.pdf', 'wb')\n",
    "pdf_writer = PdfFileWriter()"
   ]
  },
  {
   "cell_type": "code",
   "execution_count": null,
   "id": "e304e9c4",
   "metadata": {},
   "outputs": [],
   "source": []
  },
  {
   "cell_type": "markdown",
   "id": "8b349a93",
   "metadata": {},
   "source": [
    "2. From a PdfFileReader object, how do you get a Page object for page 5?"
   ]
  },
  {
   "cell_type": "markdown",
   "id": "8a8503e9",
   "metadata": {},
   "source": [
    "To get a Page object for page 5 from a PdfFileReader object in the PyPDF2 library, you can use the getPage() method with the index of the desired page (zero-based index). In this case, since you want to retrieve page 5, which is at index 4, you would use getPage(4)."
   ]
  },
  {
   "cell_type": "code",
   "execution_count": null,
   "id": "c5ae3076",
   "metadata": {},
   "outputs": [],
   "source": [
    "from PyPDF2 import PdfFileReader\n",
    "\n",
    "pdf_file = open('example.pdf', 'rb')\n",
    "pdf_reader = PdfFileReader(pdf_file)\n",
    "\n",
    "page_5 = pdf_reader.getPage(4)\n",
    "pdf_file.close()\n"
   ]
  },
  {
   "cell_type": "code",
   "execution_count": null,
   "id": "21b60b23",
   "metadata": {},
   "outputs": [],
   "source": []
  },
  {
   "cell_type": "markdown",
   "id": "4ffd902c",
   "metadata": {},
   "source": [
    "3. What PdfFileReader variable stores the number of pages in the PDF document?"
   ]
  },
  {
   "cell_type": "markdown",
   "id": "ac5108f9",
   "metadata": {},
   "source": [
    "The PdfFileReader variable that stores the number of pages in the PDF document is numPages. It is an attribute of the PdfFileReader object from the PyPDF2 library.\n",
    "\n",
    "After creating a PdfFileReader object, you can access the number of pages using the numPages attribute."
   ]
  },
  {
   "cell_type": "code",
   "execution_count": null,
   "id": "fe84fae4",
   "metadata": {},
   "outputs": [],
   "source": [
    "from PyPDF2 import PdfFileReader\n",
    "\n",
    "pdf_file = open('example.pdf', 'rb')\n",
    "pdf_reader = PdfFileReader(pdf_file)\n",
    "\n",
    "num_pages = pdf_reader.numPages \n",
    "\n",
    "print(\"Number of pages:\", num_pages)\n",
    "\n",
    "pdf_file.close()\n"
   ]
  },
  {
   "cell_type": "code",
   "execution_count": null,
   "id": "a4976941",
   "metadata": {},
   "outputs": [],
   "source": []
  },
  {
   "cell_type": "markdown",
   "id": "0192baa7",
   "metadata": {},
   "source": [
    "4. If a PdfFileReader object’s PDF is encrypted with the password swordfish, what must you do before you can obtain Page objects from it?"
   ]
  },
  {
   "cell_type": "markdown",
   "id": "07768846",
   "metadata": {},
   "source": [
    "\n",
    "If a PdfFileReader object's PDF is encrypted with the password \"swordfish,\" you need to decrypt the PDF using the decrypt() method before you can obtain Page objects from it."
   ]
  },
  {
   "cell_type": "code",
   "execution_count": null,
   "id": "757726cc",
   "metadata": {},
   "outputs": [],
   "source": [
    "from PyPDF2 import PdfFileReader\n",
    "\n",
    "pdf_file = open('encrypted.pdf', 'rb')\n",
    "pdf_reader = PdfFileReader(pdf_file)\n",
    "\n",
    "if pdf_reader.isEncrypted:\n",
    "    pdf_reader.decrypt('swordfish')\n",
    "\n",
    "pdf_file.close()\n"
   ]
  },
  {
   "cell_type": "code",
   "execution_count": null,
   "id": "ea8d7d84",
   "metadata": {},
   "outputs": [],
   "source": []
  },
  {
   "cell_type": "markdown",
   "id": "ef353f16",
   "metadata": {},
   "source": [
    "5. What methods do you use to rotate a page?"
   ]
  },
  {
   "cell_type": "markdown",
   "id": "7bd4c5d0",
   "metadata": {},
   "source": [
    "\n",
    "To rotate a page in a PDF using the PyPDF2 library, you can use the rotateClockwise() or rotateCounterClockwise() methods of a Page object. These methods allow you to rotate the page clockwise or counterclockwise, respectively."
   ]
  },
  {
   "cell_type": "code",
   "execution_count": null,
   "id": "8dc049b9",
   "metadata": {},
   "outputs": [],
   "source": [
    "from PyPDF2 import PdfFileReader, PdfFileWriter\n",
    "\n",
    "pdf_file = open('example.pdf', 'rb')\n",
    "pdf_reader = PdfFileReader(pdf_file)\n",
    "\n",
    "page = pdf_reader.getPage(0)  \n",
    "\n",
    "page.rotateClockwise(90)  \n",
    "\n",
    "pdf_writer = PdfFileWriter()\n",
    "pdf_writer.addPage(page)\n",
    "\n",
    "output_pdf = open('output.pdf', 'wb')\n",
    "pdf_writer.write(output_pdf)\n",
    "\n",
    "pdf_file.close()\n",
    "output_pdf.close()\n"
   ]
  },
  {
   "cell_type": "code",
   "execution_count": null,
   "id": "6f829176",
   "metadata": {},
   "outputs": [],
   "source": []
  },
  {
   "cell_type": "markdown",
   "id": "b8c9ff18",
   "metadata": {},
   "source": [
    "6. What is the difference between a Run object and a Paragraph object?"
   ]
  },
  {
   "cell_type": "markdown",
   "id": "ebb79ef4",
   "metadata": {},
   "source": [
    "In the context of working with documents in the python-docx library, a Run object and a Paragraph object represent different elements within a document.\n",
    "\n",
    "A Paragraph object in python-docx represents a single paragraph of text in a document. It contains one or more Run objects. A paragraph is a logical unit of text that is typically separated by line breaks or other formatting.\n",
    "\n",
    "A Run object, on the other hand, represents a contiguous run of text within a paragraph that shares the same formatting properties. It represents a span of text within a paragraph that has consistent font style, size, color, and other formatting attributes.\n",
    "\n",
    "In simpler terms, a Paragraph object is like a container that holds one or more Run objects, which in turn represent the actual spans of text within that paragraph."
   ]
  },
  {
   "cell_type": "code",
   "execution_count": null,
   "id": "3dcd21cc",
   "metadata": {},
   "outputs": [],
   "source": [
    "from docx import Document\n",
    "\n",
    "doc = Document('example.docx')\n",
    "paragraphs = doc.paragraphs\n",
    "\n",
    "first_paragraph = paragraphs[0]\n",
    "\n",
    "runs = first_paragraph.runs\n",
    "\n",
    "for run in runs:\n",
    "    print(run.text)\n"
   ]
  },
  {
   "cell_type": "code",
   "execution_count": null,
   "id": "d89f3c42",
   "metadata": {},
   "outputs": [],
   "source": []
  },
  {
   "cell_type": "markdown",
   "id": "c9b5aa43",
   "metadata": {},
   "source": [
    "7. How do you obtain a list of Paragraph objects for a Document object that’s stored in a variable named doc?"
   ]
  },
  {
   "cell_type": "markdown",
   "id": "0041f27d",
   "metadata": {},
   "source": [
    "\n",
    "To obtain a list of Paragraph objects for a Document object stored in a variable named doc using the python-docx library, you can access the paragraphs attribute of the doc object."
   ]
  },
  {
   "cell_type": "code",
   "execution_count": null,
   "id": "8bb10126",
   "metadata": {},
   "outputs": [],
   "source": [
    "from docx import Document\n",
    "\n",
    "doc = Document('example.docx')\n",
    "\n",
    "paragraphs = doc.paragraphs\n",
    "\n",
    "for paragraph in paragraphs:\n",
    "    print(paragraph.text)\n"
   ]
  },
  {
   "cell_type": "code",
   "execution_count": null,
   "id": "78566511",
   "metadata": {},
   "outputs": [],
   "source": []
  },
  {
   "cell_type": "markdown",
   "id": "e28e0956",
   "metadata": {},
   "source": [
    "8. What type of object has bold, underline, italic, strike, and outline variables?"
   ]
  },
  {
   "cell_type": "markdown",
   "id": "127c6eb9",
   "metadata": {},
   "source": [
    "In the context of working with the python-docx library, the Font object has the variables bold, underline, italic, strike, and outline.\n",
    "\n",
    "The Font object represents the font formatting applied to a run of text within a paragraph. It is part of the Run object, which represents a span of text within a paragraph."
   ]
  },
  {
   "cell_type": "code",
   "execution_count": null,
   "id": "7a771607",
   "metadata": {},
   "outputs": [],
   "source": [
    "from docx import Document\n",
    "\n",
    "doc = Document('example.docx')\n",
    "paragraphs = doc.paragraphs\n",
    "\n",
    "for paragraph in paragraphs:\n",
    "    for run in paragraph.runs:\n",
    "        font = run.font\n",
    "        print(f\"Bold: {font.bold}\")\n",
    "        print(f\"Underline: {font.underline}\")\n",
    "        print(f\"Italic: {font.italic}\")\n",
    "        print(f\"Strike: {font.strike}\")\n",
    "        print(f\"Outline: {font.outline}\")\n"
   ]
  },
  {
   "cell_type": "code",
   "execution_count": null,
   "id": "2edd1e4b",
   "metadata": {},
   "outputs": [],
   "source": []
  },
  {
   "cell_type": "markdown",
   "id": "2d8ebf44",
   "metadata": {},
   "source": [
    "9. What is the difference between False, True, and None for the bold variable?"
   ]
  },
  {
   "cell_type": "markdown",
   "id": "7485b7e7",
   "metadata": {},
   "source": [
    "In the context of the bold variable of the Font object in the python-docx library:\n",
    "\n",
    "False: Indicates that the bold formatting is explicitly turned off for the run of text. The text will be displayed without bold styling.\n",
    "True: Indicates that the bold formatting is explicitly turned on for the run of text. The text will be displayed with bold styling.\n",
    "None: Indicates that the bold formatting is not explicitly set for the run of text. In this case, the actual appearance of the text will depend on the default formatting applied by the document or any inherited formatting."
   ]
  },
  {
   "cell_type": "code",
   "execution_count": null,
   "id": "ee6795f4",
   "metadata": {},
   "outputs": [],
   "source": []
  },
  {
   "cell_type": "markdown",
   "id": "1e0cb4e6",
   "metadata": {},
   "source": [
    "10. How do you create a Document object for a new Word document?"
   ]
  },
  {
   "cell_type": "markdown",
   "id": "a60aa402",
   "metadata": {},
   "source": [
    "To create a Document object for a new Word document using the python-docx library, you can simply call the Document() constructor without any arguments. This will create an empty Document object representing a new, blank Word document."
   ]
  },
  {
   "cell_type": "code",
   "execution_count": null,
   "id": "d358ee4c",
   "metadata": {},
   "outputs": [],
   "source": [
    "from docx import Document\n",
    "doc = Document()\n",
    "doc.save('new_document.docx')\n"
   ]
  },
  {
   "cell_type": "code",
   "execution_count": null,
   "id": "6a33fbd8",
   "metadata": {},
   "outputs": [],
   "source": []
  },
  {
   "cell_type": "markdown",
   "id": "3c96e234",
   "metadata": {},
   "source": [
    "11. How do you add a paragraph with the text 'Hello, there!' to a Document object stored in a variable named doc?"
   ]
  },
  {
   "cell_type": "markdown",
   "id": "6d3068ca",
   "metadata": {},
   "source": [
    "\n",
    "To add a paragraph with the text 'Hello, there!' to a Document object stored in a variable named doc, you can use the add_paragraph() method."
   ]
  },
  {
   "cell_type": "code",
   "execution_count": null,
   "id": "03d670ec",
   "metadata": {},
   "outputs": [],
   "source": [
    "from docx import Document\n",
    "\n",
    "doc = Document()\n",
    "doc.add_paragraph('Hello, there!')\n",
    "doc.save('new_document.docx')\n"
   ]
  },
  {
   "cell_type": "code",
   "execution_count": null,
   "id": "2e1a4612",
   "metadata": {},
   "outputs": [],
   "source": []
  },
  {
   "cell_type": "markdown",
   "id": "2e785992",
   "metadata": {},
   "source": [
    "12. What integers represent the levels of headings available in Word documents?"
   ]
  },
  {
   "cell_type": "markdown",
   "id": "bfc4ba37",
   "metadata": {},
   "source": [
    "In Word documents, the levels of headings are represented by integers ranging from 1 to 9. The integers correspond to the different heading styles available for formatting text hierarchically. Here is a general mapping of the heading levels to the corresponding integers:\n",
    "\n",
    "Heading 1: Level 1\n",
    "Heading 2: Level 2\n",
    "Heading 3: Level 3\n",
    "Heading 4: Level 4\n",
    "Heading 5: Level 5\n",
    "Heading 6: Level 6\n",
    "Heading 7: Level 7\n",
    "Heading 8: Level 8\n",
    "Heading 9: Level 9\n",
    "These heading levels are used to structure the content of the document, provide a hierarchical outline, and enable features such as automatic table of contents generation and navigation within the document."
   ]
  }
 ],
 "metadata": {
  "kernelspec": {
   "display_name": "Python 3 (ipykernel)",
   "language": "python",
   "name": "python3"
  },
  "language_info": {
   "codemirror_mode": {
    "name": "ipython",
    "version": 3
   },
   "file_extension": ".py",
   "mimetype": "text/x-python",
   "name": "python",
   "nbconvert_exporter": "python",
   "pygments_lexer": "ipython3",
   "version": "3.10.9"
  }
 },
 "nbformat": 4,
 "nbformat_minor": 5
}
