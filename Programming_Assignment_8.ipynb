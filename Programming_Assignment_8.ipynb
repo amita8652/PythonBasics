{
 "cells": [
  {
   "cell_type": "markdown",
   "id": "998a6f97",
   "metadata": {},
   "source": [
    "1.\tWrite a Python Program to Add Two Matrices?"
   ]
  },
  {
   "cell_type": "code",
   "execution_count": 3,
   "id": "207126c2",
   "metadata": {},
   "outputs": [
    {
     "name": "stdout",
     "output_type": "stream",
     "text": [
      "Enter the number of rows for the first matrix: 4\n",
      "Enter the number of columns for the first matrix: 3\n",
      "Enter the elements of the first matrix:\n",
      "1 2 3\n",
      "2 3 4\n",
      "4 5 6\n",
      "6 7 8\n",
      "Enter the number of rows for the second matrix: 4\n",
      "Enter the number of columns for the second matrix: 3\n",
      "Enter the elements of the second matrix:\n",
      "5 6 7\n",
      "10 20 30\n",
      "20 30 40\n",
      "50 60 70 \n",
      "The sum of the two matrices is:\n",
      "[6, 8, 10]\n",
      "[12, 23, 34]\n",
      "[24, 35, 46]\n",
      "[56, 67, 78]\n"
     ]
    }
   ],
   "source": [
    "def add_matrices(matrix1, matrix2):\n",
    "   \n",
    "    if len(matrix1) != len(matrix2) or len(matrix1[0]) != len(matrix2[0]):\n",
    "        return None\n",
    "\n",
    "    result_matrix = [[0 for _ in range(len(matrix1[0]))] for _ in range(len(matrix1))]\n",
    "\n",
    "    for i in range(len(matrix1)):\n",
    "        for j in range(len(matrix1[0])):\n",
    "            result_matrix[i][j] = matrix1[i][j] + matrix2[i][j]\n",
    "\n",
    "    return result_matrix\n",
    "\n",
    "rows1 = int(input(\"Enter the number of rows for the first matrix: \"))\n",
    "columns1 = int(input(\"Enter the number of columns for the first matrix: \"))\n",
    "matrix1 = []\n",
    "\n",
    "print(\"Enter the elements of the first matrix:\")\n",
    "for i in range(rows1):\n",
    "    row = list(map(int, input().split()))\n",
    "    matrix1.append(row)\n",
    "\n",
    "rows2 = int(input(\"Enter the number of rows for the second matrix: \"))\n",
    "columns2 = int(input(\"Enter the number of columns for the second matrix: \"))\n",
    "matrix2 = []\n",
    "\n",
    "print(\"Enter the elements of the second matrix:\")\n",
    "for i in range(rows2):\n",
    "    row = list(map(int, input().split()))\n",
    "    matrix2.append(row)\n",
    "\n",
    "result = add_matrices(matrix1, matrix2)\n",
    "\n",
    "if result is not None:\n",
    "    print(\"The sum of the two matrices is:\")\n",
    "    for row in result:\n",
    "        print(row)\n",
    "else:\n",
    "    print(\"The matrices have different dimensions. Addition is not possible.\")\n"
   ]
  },
  {
   "cell_type": "code",
   "execution_count": null,
   "id": "ef7defd5",
   "metadata": {},
   "outputs": [],
   "source": []
  },
  {
   "cell_type": "markdown",
   "id": "014ac0fd",
   "metadata": {},
   "source": [
    "2.\tWrite a Python Program to Multiply Two Matrices?"
   ]
  },
  {
   "cell_type": "code",
   "execution_count": 4,
   "id": "7ebffc02",
   "metadata": {},
   "outputs": [
    {
     "name": "stdout",
     "output_type": "stream",
     "text": [
      "Enter the number of rows for the first matrix: 3\n",
      "Enter the number of columns for the first matrix: 3\n",
      "Enter the elements of the first matrix:\n",
      "1 2 3\n",
      "2 3 4\n",
      "3 4 5\n",
      "Enter the number of rows for the second matrix: 3\n",
      "Enter the number of columns for the second matrix: 3\n",
      "Enter the elements of the second matrix:\n",
      "5 6 7\n",
      "6 7 8\n",
      "7 8 9\n",
      "The product of the two matrices is:\n",
      "[38, 44, 50]\n",
      "[56, 65, 74]\n",
      "[74, 86, 98]\n"
     ]
    }
   ],
   "source": [
    "def multiply_matrices(matrix1, matrix2):\n",
    "\n",
    "    if len(matrix1[0]) != len(matrix2):\n",
    "        return None\n",
    "\n",
    "    result_matrix = [[0 for _ in range(len(matrix2[0]))] for _ in range(len(matrix1))]\n",
    "\n",
    "    for i in range(len(matrix1)):\n",
    "        for j in range(len(matrix2[0])):\n",
    "            for k in range(len(matrix2)):\n",
    "                result_matrix[i][j] += matrix1[i][k] * matrix2[k][j]\n",
    "\n",
    "    return result_matrix\n",
    "\n",
    "rows1 = int(input(\"Enter the number of rows for the first matrix: \"))\n",
    "columns1 = int(input(\"Enter the number of columns for the first matrix: \"))\n",
    "matrix1 = []\n",
    "\n",
    "print(\"Enter the elements of the first matrix:\")\n",
    "for i in range(rows1):\n",
    "    row = list(map(int, input().split()))\n",
    "    matrix1.append(row)\n",
    "\n",
    "rows2 = int(input(\"Enter the number of rows for the second matrix: \"))\n",
    "columns2 = int(input(\"Enter the number of columns for the second matrix: \"))\n",
    "matrix2 = []\n",
    "\n",
    "print(\"Enter the elements of the second matrix:\")\n",
    "for i in range(rows2):\n",
    "    row = list(map(int, input().split()))\n",
    "    matrix2.append(row)\n",
    "result = multiply_matrices(matrix1, matrix2)\n",
    "\n",
    "if result is not None:\n",
    "    print(\"The product of the two matrices is:\")\n",
    "    for row in result:\n",
    "        print(row)\n",
    "else:\n",
    "    print(\"The number of columns in the first matrix must be equal to the number of rows in the second matrix. Multiplication is not possible.\")\n"
   ]
  },
  {
   "cell_type": "code",
   "execution_count": null,
   "id": "2e18bfbe",
   "metadata": {},
   "outputs": [],
   "source": []
  },
  {
   "cell_type": "markdown",
   "id": "bcc64d2c",
   "metadata": {},
   "source": [
    "3.\tWrite a Python Program to Transpose a Matrix?"
   ]
  },
  {
   "cell_type": "code",
   "execution_count": 5,
   "id": "5df8a88c",
   "metadata": {},
   "outputs": [
    {
     "name": "stdout",
     "output_type": "stream",
     "text": [
      "Enter the number of rows for the matrix: 3\n",
      "Enter the number of columns for the matrix: 3\n",
      "Enter the elements of the matrix:\n",
      "1 2 3\n",
      "2 3 4\n",
      "3 4 5\n",
      "The transposed matrix is:\n",
      "[1, 2, 3]\n",
      "[2, 3, 4]\n",
      "[3, 4, 5]\n"
     ]
    }
   ],
   "source": [
    "def transpose_matrix(matrix):\n",
    "  \n",
    "    rows = len(matrix)\n",
    "    columns = len(matrix[0])\n",
    "\n",
    "    result_matrix = [[0 for _ in range(rows)] for _ in range(columns)]\n",
    "\n",
    "    for i in range(rows):\n",
    "        for j in range(columns):\n",
    "            result_matrix[j][i] = matrix[i][j]\n",
    "\n",
    "    return result_matrix\n",
    "\n",
    "rows = int(input(\"Enter the number of rows for the matrix: \"))\n",
    "columns = int(input(\"Enter the number of columns for the matrix: \"))\n",
    "matrix = []\n",
    "\n",
    "print(\"Enter the elements of the matrix:\")\n",
    "for i in range(rows):\n",
    "    row = list(map(int, input().split()))\n",
    "    matrix.append(row)\n",
    "\n",
    "result = transpose_matrix(matrix)\n",
    "\n",
    "print(\"The transposed matrix is:\")\n",
    "for row in result:\n",
    "    print(row)\n"
   ]
  },
  {
   "cell_type": "code",
   "execution_count": null,
   "id": "d0580fc0",
   "metadata": {},
   "outputs": [],
   "source": []
  },
  {
   "cell_type": "markdown",
   "id": "78eb81b7",
   "metadata": {},
   "source": [
    "4.\tWrite a Python Program to Sort Words in Alphabetic Order?"
   ]
  },
  {
   "cell_type": "code",
   "execution_count": 6,
   "id": "de69d53f",
   "metadata": {},
   "outputs": [
    {
     "name": "stdout",
     "output_type": "stream",
     "text": [
      "Enter words separated by space: krishna is true love\n",
      "Words in alphabetical order:\n",
      "is\n",
      "krishna\n",
      "love\n",
      "true\n"
     ]
    }
   ],
   "source": [
    "def sort_words(words):\n",
    "    \n",
    "    word_list = words.split()\n",
    "    sorted_words = sorted(word_list)\n",
    "\n",
    "    return sorted_words\n",
    "\n",
    "input_words = input(\"Enter words separated by space: \")\n",
    "\n",
    "sorted_words = sort_words(input_words)\n",
    "\n",
    "print(\"Words in alphabetical order:\")\n",
    "for word in sorted_words:\n",
    "    print(word)\n"
   ]
  },
  {
   "cell_type": "code",
   "execution_count": null,
   "id": "6d467c0b",
   "metadata": {},
   "outputs": [],
   "source": []
  },
  {
   "cell_type": "markdown",
   "id": "00e19e7e",
   "metadata": {},
   "source": [
    "5.\tWrite a Python Program to Remove Punctuation From a String?"
   ]
  },
  {
   "cell_type": "code",
   "execution_count": 7,
   "id": "8bccb70d",
   "metadata": {},
   "outputs": [
    {
     "name": "stdout",
     "output_type": "stream",
     "text": [
      "Enter a string: krishna is true love\n",
      "String without punctuation: krishna is true love\n"
     ]
    }
   ],
   "source": [
    "import string\n",
    "\n",
    "def remove_punctuation(input_string):\n",
    "\n",
    "    translation_table = str.maketrans(\"\", \"\", string.punctuation)\n",
    "\n",
    "    cleaned_string = input_string.translate(translation_table)\n",
    "\n",
    "    return cleaned_string\n",
    "\n",
    "input_string = input(\"Enter a string: \")\n",
    "cleaned_string = remove_punctuation(input_string)\n",
    "print(\"String without punctuation:\", cleaned_string)\n"
   ]
  }
 ],
 "metadata": {
  "kernelspec": {
   "display_name": "Python 3 (ipykernel)",
   "language": "python",
   "name": "python3"
  },
  "language_info": {
   "codemirror_mode": {
    "name": "ipython",
    "version": 3
   },
   "file_extension": ".py",
   "mimetype": "text/x-python",
   "name": "python",
   "nbconvert_exporter": "python",
   "pygments_lexer": "ipython3",
   "version": "3.10.9"
  }
 },
 "nbformat": 4,
 "nbformat_minor": 5
}
