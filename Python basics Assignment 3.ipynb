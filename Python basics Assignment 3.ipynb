{
 "cells": [
  {
   "cell_type": "markdown",
   "id": "4f6918fe",
   "metadata": {},
   "source": [
    "1. Why are functions advantageous to have in your programs?"
   ]
  },
  {
   "cell_type": "markdown",
   "id": "4e6b9886",
   "metadata": {},
   "source": [
    "Functions is important in coding because whenever we are supposed to perform different task based on same logic then we can put that logic into some assigned function and call it as and whenever it is required. Also, we can divide it into different sub functions to make it manageable.\n",
    "Functions avoid rewriting logic again and again."
   ]
  },
  {
   "cell_type": "code",
   "execution_count": null,
   "id": "72fa70f5",
   "metadata": {},
   "outputs": [],
   "source": []
  },
  {
   "cell_type": "markdown",
   "id": "3efbe962",
   "metadata": {},
   "source": [
    "2. When does the code in a function run: when it&#39;s specified or when it&#39;s called?"
   ]
  },
  {
   "cell_type": "markdown",
   "id": "d1b685d9",
   "metadata": {},
   "source": [
    "Function runs when it is called."
   ]
  },
  {
   "cell_type": "code",
   "execution_count": null,
   "id": "92155d8b",
   "metadata": {},
   "outputs": [],
   "source": []
  },
  {
   "cell_type": "markdown",
   "id": "22603fd5",
   "metadata": {},
   "source": [
    "3. What statement creates a function?"
   ]
  },
  {
   "cell_type": "markdown",
   "id": "46907814",
   "metadata": {},
   "source": [
    "'def' keyword is used to create a function followed by function name, parenthsis and colon.\n",
    "we have to write logic inside this function and in last stage call the function by it's name.\n",
    "for eg :\n",
    "def cal():\n",
    "    a=int(input())\n",
    "    b=int(input())\n",
    "    sum=a+b\n",
    "    print(sum)\n",
    "cal()\n"
   ]
  },
  {
   "cell_type": "code",
   "execution_count": null,
   "id": "010fe3ae",
   "metadata": {},
   "outputs": [],
   "source": []
  },
  {
   "cell_type": "markdown",
   "id": "cb748ba6",
   "metadata": {},
   "source": [
    "4. What is the difference between a function and a function call?"
   ]
  },
  {
   "cell_type": "markdown",
   "id": "047a691f",
   "metadata": {},
   "source": [
    "Function : It is block of code inside which we write our logic. This will only perform operations based on logic. This will not automatically give output unless it is called.\n",
    "\n",
    "Function Call : We call function when we want function that we have writen to perform logic and give output based on that logic.\n",
    "\n",
    "for eg :\n",
    "def cal():                                          ### this is function\n",
    "    a=int(input())\n",
    "    b=int(input())\n",
    "    sum=a+b\n",
    "    print(sum)\n",
    "cal()                                              ### this is function call"
   ]
  },
  {
   "cell_type": "code",
   "execution_count": null,
   "id": "65bd3992",
   "metadata": {},
   "outputs": [],
   "source": []
  },
  {
   "cell_type": "markdown",
   "id": "95301631",
   "metadata": {},
   "source": [
    "5. How many global scopes are there in a Python program? How many local scopes?"
   ]
  },
  {
   "cell_type": "markdown",
   "id": "1fb23637",
   "metadata": {},
   "source": [
    "Gloabla Variable : We can use global variables whenever we want it means inside function or outside function also. But once value of global variable is replaced by different value then the latest one will be considered.\n",
    "\n",
    "Local Variable : Variable defined inside any function is called local variable. We can use this only when that particular function is executed and called. We can't access it globally "
   ]
  },
  {
   "cell_type": "code",
   "execution_count": null,
   "id": "19583b4f",
   "metadata": {},
   "outputs": [],
   "source": []
  },
  {
   "cell_type": "markdown",
   "id": "9710db8e",
   "metadata": {},
   "source": [
    "6. What happens to variables in a local scope when the function call returns?"
   ]
  },
  {
   "cell_type": "markdown",
   "id": "deaa6f4d",
   "metadata": {},
   "source": [
    "Output of function call depends on local variables if it is defined inside function else function will execute code with the help of global variable"
   ]
  },
  {
   "cell_type": "code",
   "execution_count": null,
   "id": "37030308",
   "metadata": {},
   "outputs": [],
   "source": []
  },
  {
   "cell_type": "markdown",
   "id": "4b35d1d9",
   "metadata": {},
   "source": [
    "7. What is the concept of a return value? Is it possible to have a return value in an expression?"
   ]
  },
  {
   "cell_type": "markdown",
   "id": "820b1f7a",
   "metadata": {},
   "source": [
    "Return keyword is used to call output of code or function. Returning value is possible for an expresion if datatype of output fits in that."
   ]
  },
  {
   "cell_type": "code",
   "execution_count": null,
   "id": "ec84f843",
   "metadata": {},
   "outputs": [],
   "source": []
  },
  {
   "cell_type": "markdown",
   "id": "e14b3480",
   "metadata": {},
   "source": [
    "8. If a function does not have a return statement, what is the return value of a call to that function?"
   ]
  },
  {
   "cell_type": "markdown",
   "id": "9ece1e6c",
   "metadata": {},
   "source": [
    "If in function return is not mentioned then datatype of output of the function will be \"None\" datatype"
   ]
  },
  {
   "cell_type": "code",
   "execution_count": null,
   "id": "9b1ff506",
   "metadata": {},
   "outputs": [],
   "source": []
  },
  {
   "cell_type": "markdown",
   "id": "f0cd2902",
   "metadata": {},
   "source": [
    "9. How do you make a function variable refer to the global variable?"
   ]
  },
  {
   "cell_type": "markdown",
   "id": "1694d4a2",
   "metadata": {},
   "source": [
    "we can make function variable refer to \"global\" variable by using keywork global.\n",
    "\n",
    "for eg.\n",
    "def funct1():\n",
    "    global a\n",
    "    global b\n",
    "    a=2\n",
    "    b=3\n",
    "    sum=a+b\n",
    "    return sum\n",
    "funct1()\n",
    "\n",
    "\n",
    "d=a*b\n",
    "print(d)\n"
   ]
  },
  {
   "cell_type": "code",
   "execution_count": null,
   "id": "7af0a105",
   "metadata": {},
   "outputs": [],
   "source": []
  },
  {
   "cell_type": "markdown",
   "id": "4f5c473d",
   "metadata": {},
   "source": [
    "10. What is the data type of None?"
   ]
  },
  {
   "cell_type": "markdown",
   "id": "c83ed630",
   "metadata": {},
   "source": [
    "Datatype of None is \"NoneType\""
   ]
  },
  {
   "cell_type": "code",
   "execution_count": null,
   "id": "5a0432bd",
   "metadata": {},
   "outputs": [],
   "source": []
  },
  {
   "cell_type": "markdown",
   "id": "282a8afd",
   "metadata": {},
   "source": [
    "11. What does the sentence import areallyourpetsnamederic do?"
   ]
  },
  {
   "cell_type": "markdown",
   "id": "06103b20",
   "metadata": {},
   "source": [
    "This statement will import package areallyourpetsnamederic in python"
   ]
  },
  {
   "cell_type": "code",
   "execution_count": null,
   "id": "9249a449",
   "metadata": {},
   "outputs": [],
   "source": []
  },
  {
   "cell_type": "markdown",
   "id": "769377bc",
   "metadata": {},
   "source": [
    "12. If you had a bacon() feature in a spam module, what would you call it after importing spam?"
   ]
  },
  {
   "cell_type": "markdown",
   "id": "784fa679",
   "metadata": {},
   "source": [
    "We can import it using below code:\n",
    "from spam import bacon              (assuming spam is already installed)"
   ]
  },
  {
   "cell_type": "code",
   "execution_count": null,
   "id": "f6cd1cd7",
   "metadata": {},
   "outputs": [],
   "source": []
  },
  {
   "cell_type": "markdown",
   "id": "b9be4131",
   "metadata": {},
   "source": [
    "13. What can you do to save a programme from crashing if it encounters an error?"
   ]
  },
  {
   "cell_type": "markdown",
   "id": "4b5e8c61",
   "metadata": {},
   "source": [
    "To save programs from crashing if it encounters an error then we can use exception handling."
   ]
  },
  {
   "cell_type": "code",
   "execution_count": null,
   "id": "8b6044e5",
   "metadata": {},
   "outputs": [],
   "source": []
  },
  {
   "cell_type": "markdown",
   "id": "683ca5ee",
   "metadata": {},
   "source": [
    "14. What is the purpose of the try clause? What is the purpose of the except clause?"
   ]
  },
  {
   "cell_type": "markdown",
   "id": "e61b7295",
   "metadata": {},
   "source": [
    "try block tries to execute and check if there is any error in code and except block handles the error if error exists."
   ]
  }
 ],
 "metadata": {
  "kernelspec": {
   "display_name": "Python 3 (ipykernel)",
   "language": "python",
   "name": "python3"
  },
  "language_info": {
   "codemirror_mode": {
    "name": "ipython",
    "version": 3
   },
   "file_extension": ".py",
   "mimetype": "text/x-python",
   "name": "python",
   "nbconvert_exporter": "python",
   "pygments_lexer": "ipython3",
   "version": "3.9.7"
  }
 },
 "nbformat": 4,
 "nbformat_minor": 5
}
