{
 "cells": [
  {
   "cell_type": "markdown",
   "id": "60941a97",
   "metadata": {},
   "source": [
    "1. What is the relationship between def statements and lambda expressions ?"
   ]
  },
  {
   "cell_type": "markdown",
   "id": "888c4010",
   "metadata": {},
   "source": [
    "Def statements and lambda expressions are both ways to define functions in Python, but they have some differences in their syntax and usage.\n",
    "\n",
    "Syntax:\n",
    "\n",
    "Def Statement: A function defined using the def statement follows the syntax def function_name(arguments): followed by the function body.\n",
    "Lambda Expression: A lambda expression follows the syntax lambda arguments: expression and does not require a function name or explicit return statement.\n",
    "Function Complexity:\n",
    "\n",
    "Def Statement: With def statements, you can define complex functions that can contain multiple statements, control flow structures (like loops and conditionals), and have a named function that can be called multiple times throughout the code.\n",
    "Lambda Expression: Lambda expressions are limited to a single expression. They are typically used for simpler, one-line functions that don't require multiple statements or complex control flow. Lambda functions are often used when a small, anonymous function is needed for a specific task or as a parameter for another function.\n",
    "Function Assignments:\n",
    "\n",
    "Def Statement: Functions defined with def can be assigned to variables, allowing you to use them as objects and pass them around in your code.\n",
    "Lambda Expression: Lambda expressions are anonymous functions, meaning they don't have a name and can't be directly assigned to variables. However, they are often used in conjunction with higher-order functions like map(), filter(), and reduce() or passed as arguments to other functions.\n",
    "Readability and Code Structure:\n",
    "\n",
    "Def Statement: Functions defined with def statements can have docstrings to provide documentation, and they offer better readability due to their explicitness and named nature.\n",
    "Lambda Expression: Lambda expressions are concise and can make code more compact, especially when used in combination with functional programming concepts like map, filter, and reduce. However, lambda functions can be less readable than named functions for more complex logic."
   ]
  },
  {
   "cell_type": "code",
   "execution_count": null,
   "id": "ab575e8f",
   "metadata": {},
   "outputs": [],
   "source": []
  },
  {
   "cell_type": "markdown",
   "id": "1fada136",
   "metadata": {},
   "source": [
    "2. What is the benefit of lambda?"
   ]
  },
  {
   "cell_type": "markdown",
   "id": "d4bebc1c",
   "metadata": {},
   "source": [
    "Lambda expressions in Python provide several benefits:\n",
    "\n",
    "Conciseness: Lambda expressions allow you to define functions in a compact and concise manner. They are typically used for small, simple functions that don't require multiple statements or complex logic. The lambda syntax allows you to define functions in a single line, reducing the amount of code you need to write.\n",
    "\n",
    "Readability: Lambda expressions can improve the readability of your code, especially when used in conjunction with functional programming concepts like map, filter, and reduce. They make the code more expressive and self-contained by defining functions inline, right at the point of use. This can help in understanding the intention of the code without the need to define a separate named function.\n",
    "\n",
    "Function as First-Class Objects: In Python, functions are treated as first-class objects, which means they can be assigned to variables, passed as arguments to other functions, and returned as values. Lambda expressions allow you to create small, anonymous functions on the fly, which can be directly passed as arguments or used in expressions without the need for explicitly defining a separate function.\n",
    "\n",
    "Higher-Order Functions: Lambda expressions are commonly used with higher-order functions like map(), filter(), and reduce(). These functions expect another function as an argument, and using lambda expressions allows you to define the required function inline, without the need to define a separate named function.\n",
    "\n",
    "Functional Programming Paradigm: Lambda expressions align with the principles of functional programming, which promotes the use of immutable data and higher-order functions. They enable you to write code in a more functional style, which can lead to code that is easier to reason about, test, and debug."
   ]
  },
  {
   "cell_type": "code",
   "execution_count": null,
   "id": "836633f2",
   "metadata": {},
   "outputs": [],
   "source": []
  },
  {
   "cell_type": "markdown",
   "id": "5165243e",
   "metadata": {},
   "source": [
    "3. Compare and contrast map, filter, and reduce."
   ]
  },
  {
   "cell_type": "markdown",
   "id": "173ae77c",
   "metadata": {},
   "source": [
    "Map, filter, and reduce are three built-in functions in Python that operate on iterables (such as lists, tuples, or strings) and provide a concise and expressive way to perform common operations on data. Although they are related, they have distinct purposes and functionalities. Here's a comparison and contrast of map, filter, and reduce:"
   ]
  },
  {
   "cell_type": "markdown",
   "id": "b59cb76e",
   "metadata": {},
   "source": [
    "The map() function applies a given function to each item in an iterable and returns a new iterable with the results.\n"
   ]
  },
  {
   "cell_type": "markdown",
   "id": "163925ab",
   "metadata": {},
   "source": [
    "The filter() function filters out elements from an iterable based on a given function that tests each element for a specific condition. It returns a new iterable containing only the elements that pass the condition."
   ]
  },
  {
   "cell_type": "markdown",
   "id": "d7ba2830",
   "metadata": {},
   "source": [
    "The reduce() function performs a cumulative computation on an iterable, reducing it to a single value by successively applying a function to the elements. It returns the final reduced value.\n",
    "\n",
    "Key Differences:\n",
    "\n",
    "Return Value: map() and filter() return new iterables, while reduce() returns a single value.\n",
    "Function Type: map() and filter() expect functions that transform or filter individual elements, while reduce() expects a function that performs a cumulative operation on two elements.\n",
    "Output Length: The length of the output from map() and filter() is typically the same as the input, while reduce() produces a single value.\n",
    "Additional Modules: reduce() is not a built-in function and requires importing the functools module."
   ]
  },
  {
   "cell_type": "code",
   "execution_count": null,
   "id": "fefd101d",
   "metadata": {},
   "outputs": [],
   "source": []
  },
  {
   "cell_type": "markdown",
   "id": "7d39c73f",
   "metadata": {},
   "source": [
    "4. What are function annotations, and how are they used?"
   ]
  },
  {
   "cell_type": "markdown",
   "id": "588b32d0",
   "metadata": {},
   "source": [
    "Function annotations in Python are a way to associate metadata or type hints with the parameters and return value of a function. They provide a form of documentation and can help improve code clarity and maintainability. Function annotations do not affect the actual execution of the function but serve as additional information for developers and tools.\n",
    "\n",
    "Function annotations are specified by placing expressions after the parameter list and a colon (:). The expressions can be any valid Python expression, including types, strings, or objects. The most common usage of function annotations is to provide type hints."
   ]
  },
  {
   "cell_type": "code",
   "execution_count": null,
   "id": "a2593429",
   "metadata": {},
   "outputs": [],
   "source": [
    "def greet(name: str, age: int) -> str:\n",
    "    return f\"Hello, {name}! You are {age} years old.\"\n"
   ]
  },
  {
   "cell_type": "code",
   "execution_count": null,
   "id": "96a26cc0",
   "metadata": {},
   "outputs": [],
   "source": []
  },
  {
   "cell_type": "markdown",
   "id": "77c21c5a",
   "metadata": {},
   "source": [
    "5. What are recursive functions, and how are they used?"
   ]
  },
  {
   "cell_type": "markdown",
   "id": "f6e953df",
   "metadata": {},
   "source": [
    "Recursive functions are functions that call themselves within their own definition. In other words, a recursive function is a function that solves a problem by solving smaller instances of the same problem until it reaches a base case, which is a simple case that can be solved directly without further recursion.\n",
    "\n",
    "Recursive functions are used in scenarios where a problem can be divided into smaller subproblems of the same nature, and solving those subproblems leads to the solution of the original problem. They are particularly useful for tasks that exhibit a recursive structure, such as traversing tree-like data structures (e.g., binary trees) or solving problems with a repetitive pattern."
   ]
  },
  {
   "cell_type": "code",
   "execution_count": null,
   "id": "04e5a0ff",
   "metadata": {},
   "outputs": [],
   "source": [
    "def factorial(n):\n",
    "    if n == 0:\n",
    "        return 1\n",
    "    else:\n",
    "        return n * factorial(n - 1)"
   ]
  },
  {
   "cell_type": "code",
   "execution_count": null,
   "id": "4f4a42ba",
   "metadata": {},
   "outputs": [],
   "source": []
  },
  {
   "cell_type": "markdown",
   "id": "e1f5e336",
   "metadata": {},
   "source": [
    "6. What are some general design guidelines for coding functions?"
   ]
  },
  {
   "cell_type": "markdown",
   "id": "bccd77ba",
   "metadata": {},
   "source": [
    "Single Responsibility Principle: Each function should have a single, well-defined responsibility. It should perform a specific task or solve a particular problem. This promotes modular and reusable code and makes functions easier to understand and test.\n",
    "\n",
    "Clear and Descriptive Naming: Choose descriptive and meaningful names for your functions. The name should accurately convey the purpose or action performed by the function. Avoid ambiguous or overly generic names that don't provide enough context.\n",
    "\n",
    "Use Function Parameters: Pass data and configuration through function parameters instead of relying on global variables. This improves code encapsulation, makes functions more independent, and facilitates reusability.\n",
    "\n",
    "Minimize Side Effects: Functions should ideally have minimal side effects, meaning they should not modify global state or external variables unless necessary. Minimizing side effects improves code predictability, testability, and makes functions more reusable.\n",
    "\n",
    "Properly Document Your Functions: Provide clear and concise documentation for your functions, explaining their purpose, input parameters, return values, and any notable behavior or assumptions. This helps other developers understand and use your functions correctly.\n",
    "\n",
    "Use Proper Indentation and Formatting: Follow a consistent and readable indentation style. Use proper whitespace and formatting conventions to enhance code readability. This includes using line breaks, appropriate spacing, and consistent code alignment.\n",
    "\n",
    "Keep Functions Short and Modular: Aim for shorter functions that perform a single task. If a function becomes too long or complex, consider breaking it down into smaller, more manageable functions. This improves code readability, maintainability, and facilitates code reuse.\n"
   ]
  },
  {
   "cell_type": "code",
   "execution_count": null,
   "id": "668d8d67",
   "metadata": {},
   "outputs": [],
   "source": []
  },
  {
   "cell_type": "markdown",
   "id": "a1731e9c",
   "metadata": {},
   "source": [
    "7. Name three or more ways that functions can communicate results to a caller."
   ]
  },
  {
   "cell_type": "markdown",
   "id": "b4be9305",
   "metadata": {},
   "source": [
    "\n",
    "Functions can communicate results to a caller in several ways. Here are three common ways functions can return or communicate results:\n",
    "\n",
    "1. Return Statement\n",
    "2. Modifying Mutable objects\n",
    "3. Using Global Variables"
   ]
  },
  {
   "cell_type": "code",
   "execution_count": 1,
   "id": "fb10057c",
   "metadata": {},
   "outputs": [
    {
     "name": "stdout",
     "output_type": "stream",
     "text": [
      "5\n"
     ]
    }
   ],
   "source": [
    "def add_numbers(a, b):\n",
    "    return a + b\n",
    "\n",
    "result = add_numbers(2, 3)\n",
    "print(result)"
   ]
  },
  {
   "cell_type": "code",
   "execution_count": 2,
   "id": "4e1070c3",
   "metadata": {},
   "outputs": [
    {
     "name": "stdout",
     "output_type": "stream",
     "text": [
      "[1, 2, 3, 4]\n"
     ]
    }
   ],
   "source": [
    "def append_element(lst, element):\n",
    "    lst.append(element)\n",
    "\n",
    "my_list = [1, 2, 3]\n",
    "append_element(my_list, 4)\n",
    "print(my_list)"
   ]
  },
  {
   "cell_type": "code",
   "execution_count": 3,
   "id": "866bf0dd",
   "metadata": {},
   "outputs": [
    {
     "name": "stdout",
     "output_type": "stream",
     "text": [
      "1\n"
     ]
    }
   ],
   "source": [
    "count = 0\n",
    "\n",
    "def increment_counter():\n",
    "    global count\n",
    "    count += 1\n",
    "\n",
    "increment_counter()\n",
    "print(count)"
   ]
  }
 ],
 "metadata": {
  "kernelspec": {
   "display_name": "Python 3 (ipykernel)",
   "language": "python",
   "name": "python3"
  },
  "language_info": {
   "codemirror_mode": {
    "name": "ipython",
    "version": 3
   },
   "file_extension": ".py",
   "mimetype": "text/x-python",
   "name": "python",
   "nbconvert_exporter": "python",
   "pygments_lexer": "ipython3",
   "version": "3.10.9"
  }
 },
 "nbformat": 4,
 "nbformat_minor": 5
}
