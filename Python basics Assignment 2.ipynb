{
 "cells": [
  {
   "cell_type": "markdown",
   "id": "19f4d0d7",
   "metadata": {},
   "source": [
    "1.What are the two values of the Boolean data type? How do you write them?"
   ]
  },
  {
   "cell_type": "markdown",
   "id": "e00e06c0",
   "metadata": {},
   "source": [
    "Below are two values of boolean datatype :\n",
    "1)True\n",
    "2)False\n",
    "\n",
    "we can assign this values to variable as below :\n",
    "\n",
    "a=True\n",
    "b=False\n",
    "    "
   ]
  },
  {
   "cell_type": "code",
   "execution_count": null,
   "id": "4eb00fe7",
   "metadata": {},
   "outputs": [],
   "source": []
  },
  {
   "cell_type": "markdown",
   "id": "2844fee0",
   "metadata": {},
   "source": [
    "2. What are the three different types of Boolean operators?"
   ]
  },
  {
   "cell_type": "markdown",
   "id": "3741e43a",
   "metadata": {},
   "source": [
    "Below are three different types of boolean operators :\n",
    "\n",
    "1)and\n",
    "2)or\n",
    "3)not\n",
    "    "
   ]
  },
  {
   "cell_type": "code",
   "execution_count": null,
   "id": "af1114e1",
   "metadata": {},
   "outputs": [],
   "source": []
  },
  {
   "cell_type": "markdown",
   "id": "a2658579",
   "metadata": {},
   "source": [
    "3. Make a list of each Boolean operator&#39;s truth tables (i.e. every possible combination of Boolean\n",
    "values for the operator and what it evaluate )."
   ]
  },
  {
   "cell_type": "code",
   "execution_count": 2,
   "id": "82a4e2b0",
   "metadata": {},
   "outputs": [
    {
     "name": "stdout",
     "output_type": "stream",
     "text": [
      "False\n",
      "True\n",
      "False\n",
      "True\n"
     ]
    }
   ],
   "source": [
    "a=True\n",
    "b=False\n",
    "print(a & b)\n",
    "print(a | b)\n",
    "print(not a)\n",
    "print(not b)"
   ]
  },
  {
   "cell_type": "code",
   "execution_count": null,
   "id": "c529649a",
   "metadata": {},
   "outputs": [],
   "source": []
  },
  {
   "cell_type": "markdown",
   "id": "46845a35",
   "metadata": {},
   "source": [
    "4. What are the values of the following expressions?"
   ]
  },
  {
   "cell_type": "markdown",
   "id": "5cdc6de8",
   "metadata": {},
   "source": [
    "(5 > 4) and (3 == 5)\n",
    "ans : False\n",
    "\n",
    "not (5 > 4)\n",
    "ans : False\n",
    "\n",
    "(5 > 4) or (3 == 5)\n",
    "ans : True\n",
    "\n",
    "not ((5 > 4) or (3 == 5))\n",
    "ans : False\n",
    "\n",
    "(True and True) and (True == False)\n",
    "ans : False\n",
    "\n",
    "(not False) or (not True)\n",
    "ans : True"
   ]
  },
  {
   "cell_type": "code",
   "execution_count": null,
   "id": "a1b3b016",
   "metadata": {},
   "outputs": [],
   "source": []
  },
  {
   "cell_type": "markdown",
   "id": "d9112f69",
   "metadata": {},
   "source": [
    "5. What are the six comparison operators?"
   ]
  },
  {
   "cell_type": "markdown",
   "id": "db77c1a0",
   "metadata": {},
   "source": [
    "Below are six comparison operators : \n",
    "1) >   : greater than\n",
    "2) <   : less than\n",
    "3) ==  : eqaul eqaul to\n",
    "4) >=  : greater than equal to\n",
    "5) <=  : less than equal to\n",
    "6) !=  : not equal to"
   ]
  },
  {
   "cell_type": "code",
   "execution_count": null,
   "id": "14236958",
   "metadata": {},
   "outputs": [],
   "source": []
  },
  {
   "cell_type": "markdown",
   "id": "18dfebb2",
   "metadata": {},
   "source": [
    "6. How do you tell the difference between the equal to and assignment operators?Describe a condition and when you would use one."
   ]
  },
  {
   "cell_type": "markdown",
   "id": "26e9379e",
   "metadata": {},
   "source": [
    "Difference between eqaul to and assignment operator is that equal to(=) is used only when we want to assign values to variable wheras assignment(==) is used when we are comparing two values. Whether they are same or not. \n",
    "\n",
    "eg:\n",
    "here we are assigning values to variable with equal to sign\n",
    "a=20\n",
    "b=40\n",
    "\n",
    "here we are checking whether both values are eqaul or not\n",
    "a==b"
   ]
  },
  {
   "cell_type": "code",
   "execution_count": null,
   "id": "a7012938",
   "metadata": {},
   "outputs": [],
   "source": []
  },
  {
   "cell_type": "markdown",
   "id": "16d7af4d",
   "metadata": {},
   "source": [
    "7. Identify the three blocks in this code:"
   ]
  },
  {
   "cell_type": "markdown",
   "id": "772c7bc4",
   "metadata": {},
   "source": [
    "spam = 0\n",
    "if spam == 10:    ### 1st block\n",
    "print('eggs')   \n",
    "if spam > 5:      ### 2nd block\n",
    "print('bacon')\n",
    "else:             ### 3rd block\n",
    "print('ham')\n",
    "print('spam')\n",
    "print('spam')"
   ]
  },
  {
   "cell_type": "code",
   "execution_count": null,
   "id": "a5cfa12d",
   "metadata": {},
   "outputs": [],
   "source": []
  },
  {
   "cell_type": "markdown",
   "id": "3bdc97bc",
   "metadata": {},
   "source": [
    "8. Write code that prints Hello if 1 is stored in spam, prints Howdy if 2 is stored in spam, and prints Greetings! if anything else is stored in spam."
   ]
  },
  {
   "cell_type": "code",
   "execution_count": 3,
   "id": "ba1f1b2e",
   "metadata": {},
   "outputs": [
    {
     "name": "stdout",
     "output_type": "stream",
     "text": [
      "2\n",
      "Howdy\n"
     ]
    }
   ],
   "source": [
    "spam =int(input())\n",
    "if spam == 1:\n",
    "    print(\"Hello\")\n",
    "elif spam == 2:\n",
    "    print(\"Howdy\")\n",
    "else:\n",
    "    print(\"Greetings!\")"
   ]
  },
  {
   "cell_type": "code",
   "execution_count": null,
   "id": "b6734cb8",
   "metadata": {},
   "outputs": [],
   "source": []
  },
  {
   "cell_type": "markdown",
   "id": "0ce608bc",
   "metadata": {},
   "source": [
    "9.If your programme is stuck in an endless loop, what keys you’ll press?"
   ]
  },
  {
   "cell_type": "markdown",
   "id": "168dacab",
   "metadata": {},
   "source": [
    "we can stop infinite loop using below keyword :\n",
    "ctrl + c"
   ]
  },
  {
   "cell_type": "code",
   "execution_count": null,
   "id": "be449ffa",
   "metadata": {},
   "outputs": [],
   "source": []
  },
  {
   "cell_type": "markdown",
   "id": "5d5d1048",
   "metadata": {},
   "source": [
    "10. How can you tell the difference between break and continue?"
   ]
  },
  {
   "cell_type": "markdown",
   "id": "a6c3764a",
   "metadata": {},
   "source": [
    "when break keyword found, it breaks the entire loop and passes the next loop to main body whereas when continue statement is found it will just skip that block of code and passes to the next block of looping code."
   ]
  },
  {
   "cell_type": "code",
   "execution_count": null,
   "id": "41fe7a13",
   "metadata": {},
   "outputs": [],
   "source": []
  },
  {
   "cell_type": "markdown",
   "id": "f43c08dd",
   "metadata": {},
   "source": [
    "11. In a for loop, what is the difference between range(10), range(0, 10), and range(0, 10, 1)?"
   ]
  },
  {
   "cell_type": "markdown",
   "id": "fa2c1771",
   "metadata": {},
   "source": [
    "There is no difference between all the three functions. They both give same output only just differ in writing way"
   ]
  },
  {
   "cell_type": "code",
   "execution_count": null,
   "id": "5783f1c4",
   "metadata": {},
   "outputs": [],
   "source": []
  },
  {
   "cell_type": "markdown",
   "id": "874d0fbc",
   "metadata": {},
   "source": [
    "12. Write a short program that prints the numbers 1 to 10 using a for loop. Then write an equivalent program that prints the numbers 1 to 10 using a while loop."
   ]
  },
  {
   "cell_type": "code",
   "execution_count": 4,
   "id": "57f3b724",
   "metadata": {},
   "outputs": [
    {
     "name": "stdout",
     "output_type": "stream",
     "text": [
      "1\n",
      "2\n",
      "3\n",
      "4\n",
      "5\n",
      "6\n",
      "7\n",
      "8\n",
      "9\n",
      "10\n"
     ]
    }
   ],
   "source": [
    "for i in range(1,11):\n",
    "    print(i)"
   ]
  },
  {
   "cell_type": "code",
   "execution_count": 5,
   "id": "df2b8122",
   "metadata": {},
   "outputs": [
    {
     "name": "stdout",
     "output_type": "stream",
     "text": [
      "1\n",
      "2\n",
      "3\n",
      "4\n",
      "5\n",
      "6\n",
      "7\n",
      "8\n",
      "9\n",
      "10\n"
     ]
    }
   ],
   "source": [
    "i=1\n",
    "while(i<11):\n",
    "    print(i)\n",
    "    i=i+1"
   ]
  },
  {
   "cell_type": "code",
   "execution_count": null,
   "id": "1d4e02a0",
   "metadata": {},
   "outputs": [],
   "source": []
  },
  {
   "cell_type": "markdown",
   "id": "431ffe5d",
   "metadata": {},
   "source": [
    "13. If you had a function named bacon() inside a module named spam, how would you call it after importing spam?"
   ]
  },
  {
   "cell_type": "markdown",
   "id": "6c15ea2a",
   "metadata": {},
   "source": [
    "pip install spam\n",
    "from spam import bacon"
   ]
  }
 ],
 "metadata": {
  "kernelspec": {
   "display_name": "Python 3 (ipykernel)",
   "language": "python",
   "name": "python3"
  },
  "language_info": {
   "codemirror_mode": {
    "name": "ipython",
    "version": 3
   },
   "file_extension": ".py",
   "mimetype": "text/x-python",
   "name": "python",
   "nbconvert_exporter": "python",
   "pygments_lexer": "ipython3",
   "version": "3.9.7"
  }
 },
 "nbformat": 4,
 "nbformat_minor": 5
}
